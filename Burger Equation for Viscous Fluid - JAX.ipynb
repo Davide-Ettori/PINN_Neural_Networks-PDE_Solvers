{
 "cells": [
  {
   "cell_type": "code",
   "execution_count": 1,
   "metadata": {
    "collapsed": true,
    "ExecuteTime": {
     "end_time": "2024-02-14T06:34:13.779919Z",
     "start_time": "2024-02-14T06:34:11.973143Z"
    }
   },
   "outputs": [],
   "source": [
    "import numpy as np\n",
    "import scipy as sp\n",
    "import jax.numpy as jnp\n",
    "import jax.scipy as jsp\n",
    "import jax.lax as jlx\n",
    "import jax\n",
    "from matplotlib import pyplot as plt\n",
    "from jax.scipy.optimize import minimize"
   ]
  },
  {
   "cell_type": "code",
   "execution_count": 3,
   "outputs": [],
   "source": [
    "# initial parameters of the equation\n",
    "num_space_grid, num_time_grid, num_space_IC, num_time_BC = 10, 10, 100, 50\n",
    "viscosity = 0.01 / np.pi"
   ],
   "metadata": {
    "collapsed": false,
    "ExecuteTime": {
     "end_time": "2024-02-14T06:34:22.176094Z",
     "start_time": "2024-02-14T06:34:22.170582Z"
    }
   }
  },
  {
   "cell_type": "code",
   "execution_count": 4,
   "outputs": [
    {
     "data": {
      "text/plain": "(10000, 2)"
     },
     "execution_count": 4,
     "metadata": {},
     "output_type": "execute_result"
    }
   ],
   "source": [
    "# dense domain, where points for RAR will be picked\n",
    "x = np.linspace(-1, 1, 100)\n",
    "t = np.linspace(0, 1, 100)\n",
    "D = np.array([[i, y] for i in x for y in t])\n",
    "D.shape"
   ],
   "metadata": {
    "collapsed": false,
    "ExecuteTime": {
     "end_time": "2024-02-14T06:34:22.485597Z",
     "start_time": "2024-02-14T06:34:22.461976Z"
    }
   }
  },
  {
   "cell_type": "code",
   "execution_count": 5,
   "outputs": [
    {
     "name": "stdout",
     "output_type": "stream",
     "text": [
      "(10,) (10,)\n"
     ]
    },
    {
     "data": {
      "text/plain": "(100, 2)"
     },
     "execution_count": 5,
     "metadata": {},
     "output_type": "execute_result"
    }
   ],
   "source": [
    "# grid built on the domain, those are the points where the PINN will try to minimize the residual\n",
    "time_sample = np.linspace(0, 1, num_time_grid)\n",
    "space_sample = np.linspace(-1, 1, num_space_grid)\n",
    "print(time_sample.shape, space_sample.shape)\n",
    "grid = np.array([[x, y] for x in space_sample for y in time_sample])\n",
    "grid.shape"
   ],
   "metadata": {
    "collapsed": false,
    "ExecuteTime": {
     "end_time": "2024-02-14T06:34:22.746940Z",
     "start_time": "2024-02-14T06:34:22.733243Z"
    }
   }
  },
  {
   "cell_type": "code",
   "execution_count": 6,
   "outputs": [
    {
     "data": {
      "text/plain": "((100, 2), (100,))"
     },
     "execution_count": 6,
     "metadata": {},
     "output_type": "execute_result"
    }
   ],
   "source": [
    "# points for the constraining on initial conditions\n",
    "IC_x = np.array([[i, 0] for i in np.linspace(-1, 1, num_space_IC)])\n",
    "IC_val = np.array([-np.sin(np.pi * i) for i in np.linspace(-1, 1, num_space_IC)])\n",
    "IC_x.shape, IC_val.shape"
   ],
   "metadata": {
    "collapsed": false,
    "ExecuteTime": {
     "end_time": "2024-02-14T06:34:23.079205Z",
     "start_time": "2024-02-14T06:34:23.066933Z"
    }
   }
  },
  {
   "cell_type": "code",
   "execution_count": 7,
   "outputs": [
    {
     "data": {
      "text/plain": "((100, 2), (100,))"
     },
     "execution_count": 7,
     "metadata": {},
     "output_type": "execute_result"
    }
   ],
   "source": [
    "# points for the constraining on boundary conditions\n",
    "temp_1 = np.array([[-1, i] for i in np.linspace(0, 1, num_time_BC)])\n",
    "temp_2 = np.array([[1, i] for i in np.linspace(0, 1, num_time_BC)])\n",
    "BC_x = np.concatenate([temp_1, temp_2])\n",
    "BC_val = np.zeros(len(BC_x))\n",
    "BC_x.shape, BC_val.shape"
   ],
   "metadata": {
    "collapsed": false,
    "ExecuteTime": {
     "end_time": "2024-02-14T06:34:23.409026Z",
     "start_time": "2024-02-14T06:34:23.401274Z"
    }
   }
  },
  {
   "cell_type": "code",
   "execution_count": 8,
   "outputs": [],
   "source": [
    "layers = [2, 16, 8, 4, 1]"
   ],
   "metadata": {
    "collapsed": false,
    "ExecuteTime": {
     "end_time": "2024-02-14T06:34:23.821135Z",
     "start_time": "2024-02-14T06:34:23.816636Z"
    }
   }
  },
  {
   "cell_type": "code",
   "execution_count": 9,
   "outputs": [
    {
     "data": {
      "text/plain": "8"
     },
     "execution_count": 9,
     "metadata": {},
     "output_type": "execute_result"
    }
   ],
   "source": [
    "# initializing weights and biases for the whole neural networks\n",
    "def initialize(layers_size):\n",
    "  np.random.seed(0) # for reproducibility\n",
    "  params = list()\n",
    "  for i in range(len(layers_size) - 1):\n",
    "    n, m = layers_size[i + 1], layers_size[i]\n",
    "    params.append(np.random.normal(0, np.sqrt(2 / (n + m)), (n, m))) # matrix --> Normal(0, sqrt(2/n+m))\n",
    "    params.append(np.zeros((n, ))) # vectors --> 0\n",
    "  return params\n",
    "\n",
    "params = initialize(layers) # simple FFNN --> more layers with less nodes --> typical in PINN\n",
    "len(params)"
   ],
   "metadata": {
    "collapsed": false,
    "ExecuteTime": {
     "end_time": "2024-02-14T06:34:24.227170Z",
     "start_time": "2024-02-14T06:34:24.211563Z"
    }
   }
  },
  {
   "cell_type": "code",
   "execution_count": 10,
   "outputs": [
    {
     "data": {
      "text/plain": "Array(0.09077528, dtype=float32)"
     },
     "execution_count": 10,
     "metadata": {},
     "output_type": "execute_result"
    }
   ],
   "source": [
    "# functions for computing the forward pass of the network --> 2 variations\n",
    "def ANN_layer(data, params):\n",
    "    W, b = params\n",
    "    return jlx.map(lambda x: jnp.dot(W, x) + b, data)\n",
    "\n",
    "ANN_layer_fast = jax.jit(ANN_layer)\n",
    "\n",
    "def ANN(x, params):\n",
    "  res = x\n",
    "  for i in range(0, len(params) - 2, 2):\n",
    "      res = jnp.tanh(ANN_layer_fast(res, params[i:i + 2]))\n",
    "  res = ANN_layer_fast(res, params[-2:])\n",
    "  return res[:, 0]\n",
    "\n",
    "ANN_fast = jax.jit(ANN)\n",
    "\n",
    "def ANN_single_point(point, params): # same function, but for a single datapoint to forcast\n",
    "    res = point\n",
    "    for i in range(0, len(params) - 2, 2):\n",
    "        res = jnp.tanh(jnp.dot(params[i], res) + params[i + 1])\n",
    "    res = jnp.dot(params[-2], res) + params[-1]\n",
    "    return res[0]\n",
    "\n",
    "ANN_single_point_fast = jax.jit(ANN_single_point)\n",
    "\n",
    "ANN_single_point_fast(grid[0], params)"
   ],
   "metadata": {
    "collapsed": false,
    "ExecuteTime": {
     "end_time": "2024-02-14T06:34:25.262530Z",
     "start_time": "2024-02-14T06:34:24.629101Z"
    }
   }
  },
  {
   "cell_type": "code",
   "execution_count": 11,
   "outputs": [
    {
     "name": "stdout",
     "output_type": "stream",
     "text": [
      "-0.012708768\n",
      "0.060691588\n",
      "-0.115106225\n"
     ]
    }
   ],
   "source": [
    "# helper function, used to compute the derivative of the network with respect of the inputs\n",
    "def ANN_separate(x, t, params):\n",
    "    grid_sep = jnp.hstack([x.reshape((-1, 1)), t.reshape((-1, 1))])\n",
    "    return ANN_fast(grid_sep, params)\n",
    "\n",
    "grad_x = jax.jit(jax.jacrev(ANN_separate, argnums=0))\n",
    "\n",
    "# all the specific functions for the derivative needed\n",
    "def y_der_x_(x, t, params):\n",
    "    return jnp.diagonal(grad_x(x, t, params))\n",
    "y_der_x_fast_ = jax.jit(y_der_x_)\n",
    "\n",
    "grad_t = jax.jit(jax.jacrev(ANN_separate, argnums=1))\n",
    "\n",
    "def y_der_t_(x, t, params):\n",
    "    return jnp.diagonal(grad_t(x, t, params))\n",
    "y_der_t_fast_ = jax.jit(y_der_t_)\n",
    "\n",
    "grad_x_x = jax.jit(jax.jacrev(y_der_x_, argnums=0))\n",
    "def y_der_x_der_x_(x, t, params):\n",
    "    return jnp.diagonal(grad_x_x(x, t, params))\n",
    "y_der_x_der_x_fast_ = jax.jit(y_der_x_der_x_)\n",
    "\n",
    "print(y_der_x_fast_(grid[:, 0], grid[:, 1], params)[0])\n",
    "print(y_der_t_fast_(grid[:, 0], grid[:, 1], params)[0])\n",
    "print(y_der_x_der_x_fast_(grid[:, 0], grid[:, 1], params)[0])"
   ],
   "metadata": {
    "collapsed": false,
    "ExecuteTime": {
     "end_time": "2024-02-14T06:34:28.261646Z",
     "start_time": "2024-02-14T06:34:25.315034Z"
    }
   }
  },
  {
   "cell_type": "code",
   "execution_count": 12,
   "outputs": [
    {
     "data": {
      "text/plain": "Array(0.4397442, dtype=float32)"
     },
     "execution_count": 12,
     "metadata": {},
     "output_type": "execute_result"
    }
   ],
   "source": [
    "# implementation of the loss function, unifying of all the subcomponents of the loss\n",
    "lam_1, lam_2, lam_3 = 1, 1, 1\n",
    "\n",
    "def loss_points(params):\n",
    "    pred_IC = ANN_fast(IC_x, params)\n",
    "    pred_BC = ANN_fast(BC_x, params)\n",
    "    return lam_1 * jnp.mean(jnp.square(IC_val - pred_IC)) + lam_2 * jnp.mean(jnp.square(BC_val - pred_BC))\n",
    "\n",
    "loss_points_fast = jax.jit(loss_points)\n",
    "\n",
    "def loss_grid(params):\n",
    "    y_val = ANN_fast(grid, params)\n",
    "    y_der_x_val = y_der_x_fast_(grid[:, 0], grid[:, 1], params)\n",
    "    y_der_t_val = y_der_t_fast_(grid[:, 0], grid[:, 1], params)\n",
    "    y_der_x_der_x_val = y_der_x_der_x_fast_(grid[:, 0], grid[:, 1], params)\n",
    "\n",
    "    return lam_3 * jnp.mean(jnp.square(y_der_t_val + y_val * y_der_x_val - viscosity * y_der_x_der_x_val))\n",
    "\n",
    "loss_grid_fast = jax.jit(loss_grid)\n",
    "\n",
    "def loss_RAR(S, params): # used in the training cycle for computing the current error for RAR method\n",
    "    y_val = ANN_fast(S, params)\n",
    "    y_der_x_val = y_der_x_fast_(S[:, 0], S[:, 1], params)\n",
    "    y_der_t_val = y_der_t_fast_(S[:, 0], S[:, 1], params)\n",
    "    y_der_x_der_x_val = y_der_x_der_x_fast_(S[:, 0], S[:, 1], params)\n",
    "\n",
    "    res = y_der_t_val + y_val * y_der_x_val - viscosity * y_der_x_der_x_val # residual of the equation\n",
    "\n",
    "    return res, jnp.mean(jnp.square(res)) # estimate of the PDE residuals by Monte Carlo integration\n",
    "\n",
    "loss_RAR_fast = jax.jit(loss_RAR)\n",
    "\n",
    "def loss(params):\n",
    "    return loss_points_fast(params) + loss_grid_fast(params)\n",
    "\n",
    "loss_fast = jax.jit(loss)\n",
    "loss_grad = jax.jit(jax.grad(loss, argnums=0))\n",
    "loss_fast(params)"
   ],
   "metadata": {
    "collapsed": false,
    "ExecuteTime": {
     "end_time": "2024-02-14T06:34:29.829643Z",
     "start_time": "2024-02-14T06:34:28.341324Z"
    }
   }
  },
  {
   "cell_type": "code",
   "execution_count": 13,
   "outputs": [
    {
     "data": {
      "text/plain": "[Array([[-0.02289331, -0.01358984],\n        [ 0.01355634,  0.00340348],\n        [ 0.10121615,  0.03557109],\n        [-0.06881518, -0.0334495 ],\n        [-0.04849807, -0.02277191],\n        [-0.00719104, -0.00197864],\n        [-0.00507342,  0.0020069 ],\n        [-0.09083584, -0.04735284],\n        [ 0.11025014,  0.04918238],\n        [ 0.09505164,  0.03948465],\n        [ 0.10752297,  0.03830485],\n        [-0.07779812, -0.02978757],\n        [-0.08922563, -0.02698124],\n        [ 0.07075912,  0.03177646],\n        [ 0.09449328,  0.04416561],\n        [-0.01709148, -0.01002818]], dtype=float32),\n Array([-0.00441147, -0.00198598, -0.00381975, -0.00552631, -0.00300904,\n         0.00119457,  0.0041229 , -0.00988972,  0.00527903,  0.00029683,\n        -0.0028107 ,  0.00176595,  0.00736893,  0.00226117,  0.00613367,\n        -0.0031034 ], dtype=float32),\n Array([[-0.11325005, -0.11698094, -0.08649676, -0.05179695, -0.00570897,\n         -0.04853317, -0.04830281, -0.03578943, -0.08231236,  0.0053722 ,\n          0.13305627, -0.03101943, -0.10150038,  0.00270952, -0.12884453,\n         -0.02006681],\n        [-0.03009638, -0.03113604, -0.02300372, -0.01377082, -0.00151449,\n         -0.01290305, -0.01284076, -0.00951355, -0.02187789,  0.00142071,\n          0.03535475, -0.00825576, -0.02700798,  0.00071884, -0.0342704 ,\n         -0.00533275],\n        [-0.07122011, -0.06923138, -0.05635875, -0.03333277, -0.00265277,\n         -0.027539  , -0.03050821, -0.0220208 , -0.0527499 ,  0.00145604,\n          0.08505091, -0.02132192, -0.06595096,  0.00127425, -0.07867929,\n         -0.01188154],\n        [-0.02328571, -0.02358834, -0.01798156, -0.01072623, -0.00107581,\n         -0.00966328, -0.00994266, -0.00730567, -0.01702432,  0.00090433,\n          0.027498  , -0.00656361, -0.02107734,  0.00051217, -0.02624198,\n         -0.00404762],\n        [-0.05577467, -0.05825794, -0.04177568, -0.02535088, -0.00301616,\n         -0.02452008, -0.02378868, -0.01775356, -0.04026519,  0.00308154,\n          0.0647237 , -0.01481674, -0.04874229,  0.00142767, -0.06388524,\n         -0.01005237],\n        [-0.01463309, -0.01481672, -0.0114184 , -0.00676833, -0.00065223,\n         -0.0060208 , -0.00625679, -0.00458354, -0.01073688,  0.00051564,\n          0.01736956, -0.00419103, -0.01343331,  0.00031099, -0.01647495,\n         -0.00252777],\n        [ 0.06997021,  0.06570156,  0.05682909,  0.03320644,  0.00204892,\n          0.0253273 ,  0.03004264,  0.02133963,  0.05245947, -0.00027526,\n         -0.08472037,  0.02208391,  0.06662695, -0.00099674,  0.07598278,\n          0.01123319],\n        [-0.11667463, -0.12101622, -0.08839516, -0.05321955, -0.00604634,\n         -0.05047916, -0.04975187, -0.03696624, -0.08455914,  0.00588638,\n          0.13637047, -0.03156932, -0.10348105,  0.00286662, -0.13310173,\n         -0.02080577]], dtype=float32),\n Array([-0.01322246, -0.00359499, -0.00132008, -0.00188259, -0.00858184,\n        -0.00133764, -0.00281643, -0.01484508], dtype=float32),\n Array([[ 0.00377184,  0.00526234,  0.00235733, -0.00204323, -0.00616646,\n         -0.00198519,  0.00086258, -0.00339423],\n        [ 0.13700928,  0.19442607,  0.09385391, -0.0725373 , -0.23131163,\n         -0.06702872,  0.040259  , -0.12692273],\n        [-0.06114369, -0.08669142, -0.04194601,  0.03247491,  0.10322597,\n          0.02995321, -0.0180477 ,  0.05656513],\n        [ 0.01949762,  0.02734336,  0.01249093, -0.01055752, -0.03216655,\n         -0.01012183,  0.00477548, -0.01769682]], dtype=float32),\n Array([-0.00101931, -0.01992181,  0.00912249, -0.00497906], dtype=float32),\n Array([[-0.39420882, -0.00559124, -0.08125533,  0.18951589]], dtype=float32),\n Array([0.04254859], dtype=float32)]"
     },
     "execution_count": 13,
     "metadata": {},
     "output_type": "execute_result"
    }
   ],
   "source": [
    "loss_grad(params)"
   ],
   "metadata": {
    "collapsed": false,
    "ExecuteTime": {
     "end_time": "2024-02-14T06:34:35.408926Z",
     "start_time": "2024-02-14T06:34:30.317923Z"
    }
   }
  },
  {
   "cell_type": "code",
   "execution_count": 14,
   "outputs": [],
   "source": [
    "# those 2 functions are needed to convert the parameters of the network from list of matrices to numpy array and viceversa\n",
    "# those will be called a lot in the training cycle, in both ways, for working with the different shapes\n",
    "# it's necessary because the forward pass uses the list of matrices form, while BFGS uses the numpy array version\n",
    "def flat_list_into_numpy_(params):\n",
    "    return jnp.concatenate([p.reshape((-1, )) for p in params])\n",
    "\n",
    "flat_list_into_numpy = jax.jit(flat_list_into_numpy_)\n",
    "\n",
    "def unpack_params(params):\n",
    "    params_list = list()\n",
    "    idx, length = 0, 0\n",
    "    for i in range(len(layers) - 1):\n",
    "        length = layers[i] * layers[i + 1]\n",
    "        params_list.append(params[idx: idx + length].reshape((layers[i + 1], layers[i])))\n",
    "        idx += length\n",
    "\n",
    "        length = layers[i + 1]\n",
    "        params_list.append(params[idx: idx + length])\n",
    "        idx += length\n",
    "    return params_list\n",
    "\n",
    "unpack_params_fast = jax.jit(unpack_params)\n",
    "unpack_params_fast(flat_list_into_numpy(params));"
   ],
   "metadata": {
    "collapsed": false,
    "ExecuteTime": {
     "end_time": "2024-02-14T06:34:49.377905Z",
     "start_time": "2024-02-14T06:34:49.319822Z"
    }
   }
  },
  {
   "cell_type": "code",
   "execution_count": 15,
   "outputs": [
    {
     "data": {
      "text/plain": "  0%|          | 0/100 [00:00<?, ?it/s]",
      "application/vnd.jupyter.widget-view+json": {
       "version_major": 2,
       "version_minor": 0,
       "model_id": "2d0ce7ce092344bf97a799286395a825"
      }
     },
     "metadata": {},
     "output_type": "display_data"
    },
    {
     "name": "stdout",
     "output_type": "stream",
     "text": [
      "1.7949684\n",
      "0.57210964\n",
      "0.42930835\n",
      "0.518486\n",
      "0.44751772\n",
      "0.4008676\n",
      "0.4134161\n",
      "0.4118328\n",
      "0.38235256\n",
      "0.37164167\n",
      "0.39828038\n",
      "0.3916372\n",
      "0.35566077\n",
      "0.33920014\n",
      "0.34256965\n",
      "0.33947915\n",
      "0.32719216\n",
      "0.31820518\n",
      "0.314855\n",
      "0.31636927\n",
      "0.3188006\n",
      "0.31766507\n",
      "0.31333968\n",
      "0.30951658\n",
      "0.3078219\n",
      "0.30688277\n",
      "0.3058776\n",
      "0.30501568\n",
      "0.3040309\n",
      "0.3029303\n",
      "0.3022469\n",
      "0.30175975\n",
      "0.3009139\n",
      "0.29998273\n",
      "0.29891124\n",
      "0.29756677\n",
      "0.2963139\n",
      "0.29534474\n",
      "0.29442102\n",
      "0.29359266\n",
      "0.29294857\n",
      "0.29239184\n",
      "0.29185724\n",
      "0.29137307\n",
      "0.29092848\n",
      "0.2904398\n",
      "0.28983676\n",
      "0.28910646\n",
      "0.28826573\n",
      "0.2873126\n",
      "0.28622\n",
      "0.2849722\n",
      "0.28355908\n",
      "0.28194806\n",
      "0.28009385\n",
      "0.27795854\n",
      "0.2755144\n",
      "0.2727369\n",
      "0.26960027\n",
      "0.26608416\n",
      "0.26218718\n",
      "0.25793332\n",
      "0.25335738\n",
      "0.24847385\n",
      "\n",
      "\n",
      "Stopping Adam, Starting BFGS...\n",
      "\n"
     ]
    }
   ],
   "source": [
    "# ADAM optimization\n",
    "from tqdm.notebook import tqdm\n",
    "\n",
    "epochs = range(100)\n",
    "alpha = 1e-3\n",
    "lr_min = 1e-2\n",
    "lr_max = 1e-1\n",
    "lr = 1e-1\n",
    "dec_lr = lambda i: max(lr_min, lr_max * (1 - i / len(epochs))) # linear decay\n",
    "\n",
    "w = flat_list_into_numpy(initialize(layers)) # layers must not be too big\n",
    "\n",
    "lam_1, lam_2, lam_3 = 1, 1, 1\n",
    "\n",
    "history_train = list()\n",
    "\n",
    "m = np.zeros(w.shape)\n",
    "v = np.zeros(w.shape)\n",
    "eps = 1e-8\n",
    "beta_1, beta_2 = 0.9, 0.999\n",
    "tol = 0.25\n",
    "\n",
    "for epoch in tqdm(epochs): # ADAM\n",
    "    lr = dec_lr(epoch)\n",
    "    grads = flat_list_into_numpy(loss_grad(unpack_params_fast(w)))\n",
    "\n",
    "    m = beta_1 * m + (1 - beta_1) * grads\n",
    "    v = beta_2 * v + (1 - beta_2) * np.square(grads)\n",
    "\n",
    "    m_hat = m / (1 - np.power(beta_1, epoch + 1))\n",
    "    v_hat = v / ( 1 - np.power(beta_2, epoch + 1))\n",
    "\n",
    "    w -= lr * m_hat / (np.sqrt(v_hat) + eps)\n",
    "\n",
    "    history_train.append(loss_fast(unpack_params_fast(w)))\n",
    "    print(history_train[-1])\n",
    "    if history_train[-1] <= tol: # Early Stopping\n",
    "        print(\"\\n\\nStopping Adam, Starting BFGS...\\n\")\n",
    "        break"
   ],
   "metadata": {
    "collapsed": false,
    "ExecuteTime": {
     "end_time": "2024-02-14T06:35:56.205031Z",
     "start_time": "2024-02-14T06:34:49.546731Z"
    }
   }
  },
  {
   "cell_type": "code",
   "execution_count": 16,
   "outputs": [
    {
     "data": {
      "text/plain": "<Figure size 640x480 with 1 Axes>",
      "image/png": "[encoded data removed]"
     },
     "metadata": {},
     "output_type": "display_data"
    }
   ],
   "source": [
    "plt.plot(history_train);"
   ],
   "metadata": {
    "collapsed": false,
    "ExecuteTime": {
     "end_time": "2024-02-14T06:35:59.787595Z",
     "start_time": "2024-02-14T06:35:59.540975Z"
    }
   }
  },
  {
   "cell_type": "code",
   "execution_count": 17,
   "outputs": [],
   "source": [
    "def BFGS(w, dw, B_inv, lr_old):\n",
    "    # search direction\n",
    "    dir_v = -(B_inv @ dw)\n",
    "    # line search\n",
    "    lr = minimize(lambda x: loss_fast(unpack_params_fast(w + x[0] * dir_v)), jnp.array([0.1]), method=\"BFGS\").x[0]\n",
    "    if lr is None: # scipy may fail in finding the optimal search direction\n",
    "        lr = lr_old\n",
    "    lr_old = lr\n",
    "    w_new = w + lr * dir_v # I use + sign because I inverted the sign of dir before\n",
    "    dw_new = flat_list_into_numpy(loss_grad(unpack_params_fast(w_new)))\n",
    "    # Sherman-Morrison update\n",
    "    s = w_new - w\n",
    "    y = dw_new - dw\n",
    "    E = I - jnp.outer(y, s) / jnp.inner(y, s)\n",
    "    B_inv = E.T @ B_inv @ E + jnp.outer(s, s) / jnp.inner(y, s)\n",
    "    w = w_new\n",
    "    dw = dw_new\n",
    "    return w, dw, B_inv, lr_old # new values, after one BFGS iteration\n",
    "\n",
    "BFGS_fast = jax.jit(BFGS)"
   ],
   "metadata": {
    "collapsed": false,
    "ExecuteTime": {
     "end_time": "2024-02-14T06:36:02.235205Z",
     "start_time": "2024-02-14T06:36:02.226475Z"
    }
   }
  },
  {
   "cell_type": "code",
   "execution_count": 18,
   "outputs": [
    {
     "name": "stdout",
     "output_type": "stream",
     "text": [
      "Adding to mesh on epoch 0, error = 0.08105327188968658\n",
      "epoch 0\n",
      "loss: 0.23590850830078125\n",
      "gradient norm: 0.379874050617218\n",
      "length of the mesh 110\n",
      "\n",
      "Adding to mesh on epoch 5, error = 1.2000203132629395\n",
      "epoch 5\n",
      "loss: 0.14586330950260162\n",
      "gradient norm: 0.320345014333725\n",
      "length of the mesh 120\n",
      "\n",
      "Adding to mesh on epoch 10, error = 0.40645748376846313\n",
      "epoch 10\n",
      "loss: 0.09483208507299423\n",
      "gradient norm: 0.16435758769512177\n",
      "length of the mesh 130\n",
      "\n",
      "Adding to mesh on epoch 15, error = 0.45910853147506714\n",
      "epoch 15\n",
      "loss: 0.08548272401094437\n",
      "gradient norm: 0.14652860164642334\n",
      "length of the mesh 140\n",
      "\n",
      "Adding to mesh on epoch 20, error = 0.354245126247406\n",
      "epoch 20\n",
      "loss: 0.07444211095571518\n",
      "gradient norm: 0.11376509815454483\n",
      "length of the mesh 150\n",
      "\n",
      "Adding to mesh on epoch 25, error = 0.43539223074913025\n",
      "epoch 25\n",
      "loss: 0.06769119203090668\n",
      "gradient norm: 0.08187925815582275\n",
      "length of the mesh 160\n",
      "\n",
      "Adding to mesh on epoch 30, error = 0.6179485321044922\n",
      "epoch 30\n",
      "loss: 0.061306096613407135\n",
      "gradient norm: 0.35373586416244507\n",
      "length of the mesh 170\n",
      "\n",
      "Adding to mesh on epoch 35, error = 0.4211117625236511\n",
      "epoch 35\n",
      "loss: 0.05742780491709709\n",
      "gradient norm: 0.07394925504922867\n",
      "length of the mesh 180\n",
      "\n",
      "Adding to mesh on epoch 40, error = 0.7471551299095154\n",
      "epoch 40\n",
      "loss: 0.05527280643582344\n",
      "gradient norm: 0.08607371151447296\n",
      "length of the mesh 190\n",
      "\n",
      "Adding to mesh on epoch 45, error = 0.43978121876716614\n",
      "Mesh already full\n",
      "epoch 45\n",
      "loss: 0.04966812953352928\n",
      "gradient norm: 0.8384936451911926\n",
      "length of the mesh 200\n",
      "\n",
      "Mesh already full\n",
      "epoch 50\n",
      "loss: 0.04691166803240776\n",
      "gradient norm: 0.398502379655838\n",
      "length of the mesh 200\n",
      "\n",
      "Mesh already full\n",
      "epoch 55\n",
      "loss: 0.04301240295171738\n",
      "gradient norm: 0.11936858296394348\n",
      "length of the mesh 200\n",
      "\n",
      "Mesh already full\n",
      "epoch 60\n",
      "loss: 0.03692640736699104\n",
      "gradient norm: 0.22041654586791992\n",
      "length of the mesh 200\n",
      "\n",
      "Mesh already full\n",
      "epoch 65\n",
      "loss: 0.028884289786219597\n",
      "gradient norm: 0.19675961136817932\n",
      "length of the mesh 200\n",
      "\n",
      "Mesh already full\n",
      "epoch 70\n",
      "loss: 0.021903719753026962\n",
      "gradient norm: 0.4899761974811554\n",
      "length of the mesh 200\n",
      "\n",
      "Mesh already full\n",
      "epoch 75\n",
      "loss: 0.015910420566797256\n",
      "gradient norm: 0.17442543804645538\n",
      "length of the mesh 200\n",
      "\n",
      "Mesh already full\n",
      "epoch 80\n",
      "loss: 0.012601885013282299\n",
      "gradient norm: 0.15821446478366852\n",
      "length of the mesh 200\n",
      "\n",
      "Mesh already full\n",
      "epoch 85\n",
      "loss: 0.011552488431334496\n",
      "gradient norm: 0.06076124310493469\n",
      "length of the mesh 200\n",
      "\n",
      "Mesh already full\n",
      "epoch 90\n",
      "loss: 0.01022089272737503\n",
      "gradient norm: 0.025320256128907204\n",
      "length of the mesh 200\n",
      "\n",
      "Mesh already full\n",
      "epoch 95\n",
      "loss: 0.008658258244395256\n",
      "gradient norm: 0.05372142419219017\n",
      "length of the mesh 200\n",
      "\n",
      "Mesh already full\n",
      "epoch 100\n",
      "loss: 0.006390007678419352\n",
      "gradient norm: 0.10223428159952164\n",
      "length of the mesh 200\n",
      "\n",
      "Mesh already full\n",
      "epoch 105\n",
      "loss: 0.005503727588802576\n",
      "gradient norm: 0.043345946818590164\n",
      "length of the mesh 200\n",
      "\n",
      "Mesh already full\n",
      "epoch 110\n",
      "loss: 0.004781430121511221\n",
      "gradient norm: 0.022508816793560982\n",
      "length of the mesh 200\n",
      "\n",
      "Mesh already full\n",
      "epoch 115\n",
      "loss: 0.00418169517070055\n",
      "gradient norm: 0.016335435211658478\n",
      "length of the mesh 200\n",
      "\n",
      "Mesh already full\n",
      "epoch 120\n",
      "loss: 0.003997614607214928\n",
      "gradient norm: 0.01435089111328125\n",
      "length of the mesh 200\n",
      "\n",
      "Mesh already full\n",
      "epoch 125\n",
      "loss: 0.003583319718018174\n",
      "gradient norm: 0.029336901381611824\n",
      "length of the mesh 200\n",
      "\n",
      "Mesh already full\n",
      "epoch 130\n",
      "loss: 0.0032337652519345284\n",
      "gradient norm: 0.016270875930786133\n",
      "length of the mesh 200\n",
      "\n",
      "Mesh already full\n",
      "epoch 135\n",
      "loss: 0.0030400094110518694\n",
      "gradient norm: 0.03195852413773537\n",
      "length of the mesh 200\n",
      "\n",
      "Mesh already full\n",
      "epoch 140\n",
      "loss: 0.0028450251556932926\n",
      "gradient norm: 0.027889059856534004\n",
      "length of the mesh 200\n",
      "\n",
      "Mesh already full\n",
      "epoch 145\n",
      "loss: 0.0027659395709633827\n",
      "gradient norm: 0.011557910591363907\n",
      "length of the mesh 200\n",
      "\n",
      "Mesh already full\n",
      "epoch 150\n",
      "loss: 0.00269531924277544\n",
      "gradient norm: 0.0053222100250422955\n",
      "length of the mesh 200\n",
      "\n",
      "Mesh already full\n",
      "epoch 155\n",
      "loss: 0.0026300381869077682\n",
      "gradient norm: 0.011984088458120823\n",
      "length of the mesh 200\n",
      "\n",
      "Mesh already full\n",
      "epoch 160\n",
      "loss: 0.0025623058900237083\n",
      "gradient norm: 0.017511116340756416\n",
      "length of the mesh 200\n",
      "\n",
      "Mesh already full\n",
      "epoch 165\n",
      "loss: 0.0024843942373991013\n",
      "gradient norm: 0.020149314776062965\n",
      "length of the mesh 200\n",
      "\n",
      "Mesh already full\n",
      "epoch 170\n",
      "loss: 0.002355505246669054\n",
      "gradient norm: 0.023830179125070572\n",
      "length of the mesh 200\n",
      "\n",
      "Mesh already full\n",
      "epoch 175\n",
      "loss: 0.002203120617195964\n",
      "gradient norm: 0.0430765375494957\n",
      "length of the mesh 200\n",
      "\n",
      "Mesh already full\n",
      "epoch 180\n",
      "loss: 0.0021441138815134764\n",
      "gradient norm: 0.016433173790574074\n",
      "length of the mesh 200\n",
      "\n",
      "Mesh already full\n",
      "epoch 185\n",
      "loss: 0.002082469407469034\n",
      "gradient norm: 0.008800884708762169\n",
      "length of the mesh 200\n",
      "\n",
      "Mesh already full\n",
      "epoch 190\n",
      "loss: 0.002021288499236107\n",
      "gradient norm: 0.021009651944041252\n",
      "length of the mesh 200\n",
      "\n",
      "Mesh already full\n",
      "epoch 195\n",
      "loss: 0.0019609550945460796\n",
      "gradient norm: 0.025720153003931046\n",
      "length of the mesh 200\n",
      "\n",
      "Mesh already full\n",
      "epoch 200\n",
      "loss: 0.001905080396682024\n",
      "gradient norm: 0.021816929802298546\n",
      "length of the mesh 200\n",
      "\n",
      "Mesh already full\n",
      "epoch 205\n",
      "loss: 0.0018603929784148932\n",
      "gradient norm: 0.014540613628923893\n",
      "length of the mesh 200\n",
      "\n",
      "Mesh already full\n",
      "epoch 210\n",
      "loss: 0.00182329339440912\n",
      "gradient norm: 0.0064291455782949924\n",
      "length of the mesh 200\n",
      "\n",
      "Mesh already full\n",
      "epoch 215\n",
      "loss: 0.0017902355175465345\n",
      "gradient norm: 0.0046628182753920555\n",
      "length of the mesh 200\n",
      "\n",
      "Mesh already full\n",
      "epoch 220\n",
      "loss: 0.0017541967099532485\n",
      "gradient norm: 0.009726006537675858\n",
      "length of the mesh 200\n",
      "\n",
      "Mesh already full\n",
      "epoch 225\n",
      "loss: 0.0017164715100079775\n",
      "gradient norm: 0.012496283277869225\n",
      "length of the mesh 200\n",
      "\n",
      "Mesh already full\n",
      "epoch 230\n",
      "loss: 0.0016814086120575666\n",
      "gradient norm: 0.012414706870913506\n",
      "length of the mesh 200\n",
      "\n",
      "Mesh already full\n",
      "epoch 235\n",
      "loss: 0.0016493945149704814\n",
      "gradient norm: 0.008902204222977161\n",
      "length of the mesh 200\n",
      "\n",
      "Mesh already full\n",
      "epoch 240\n",
      "loss: 0.0016181261744350195\n",
      "gradient norm: 0.00627499632537365\n",
      "length of the mesh 200\n",
      "\n",
      "Mesh already full\n",
      "epoch 245\n",
      "loss: 0.0015863048611208797\n",
      "gradient norm: 0.003331989049911499\n",
      "length of the mesh 200\n",
      "\n",
      "\n",
      "\n",
      "Loss of the final iteration : 0.0015601213090121746\n",
      "\n"
     ]
    }
   ],
   "source": [
    "# BFGS optimization\n",
    "N = len(w)\n",
    "max_epochs = 250\n",
    "tol = 1e-6\n",
    "\n",
    "dw = flat_list_into_numpy(loss_grad(unpack_params_fast(w)))\n",
    "I = jnp.eye(N)\n",
    "B_inv = I.copy()\n",
    "history_train = list()\n",
    "\n",
    "lr_old = 0.1\n",
    "\n",
    "k = 250\n",
    "tol_RAR = 1e-2\n",
    "s = 10\n",
    "max_grid_len = 200\n",
    "epoch_step = 5\n",
    "\n",
    "epoch = 0\n",
    "while epoch < max_epochs and np.linalg.norm(dw) > tol:\n",
    "    w, dw, B_inv, lr_old = BFGS_fast(w, dw, B_inv, lr_old)\n",
    "\n",
    "    if epoch % epoch_step == 0 and len(grid) < max_grid_len:\n",
    "        x = D[np.random.choice(len(D), k, replace=False)] # application of the RAR method\n",
    "        y, e = loss_RAR_fast(x, unpack_params_fast(w)) # computing the error for each chosen method (Monte Carlo integration)\n",
    "        if e >= tol_RAR:\n",
    "            print(f\"Adding to grid on epoch {epoch}, error = {e}\")\n",
    "            grid = np.vstack([grid, x[np.argpartition(y, -s)[-s:]]]) # adding critical points to the grid\n",
    "        else:\n",
    "            print(f\"NOT adding to grid on epoch {epoch}, error = {e}\")\n",
    "\n",
    "    if epoch % epoch_step == 0 and len(grid) >= max_grid_len:\n",
    "        print(\"Grid already full\")\n",
    "\n",
    "    if epoch % epoch_step == 0:\n",
    "        l = loss_fast(unpack_params_fast(w))\n",
    "        history_train.append(l)\n",
    "        print(f\"epoch {epoch}\")\n",
    "        print(f\"loss: {l}\")\n",
    "        print(f\"gradient norm: {np.linalg.norm(dw)}\")\n",
    "        print(f\"length of the grid {len(grid)}\\n\")\n",
    "    epoch += 1\n",
    "\n",
    "print(f\"\\n\\nLoss of the final iteration : {loss_fast(unpack_params_fast(w))}\\n\")"
   ],
   "metadata": {
    "collapsed": false,
    "ExecuteTime": {
     "end_time": "2024-02-14T07:25:46.508881Z",
     "start_time": "2024-02-14T06:36:03.165051Z"
    }
   }
  },
  {
   "cell_type": "code",
   "execution_count": 19,
   "outputs": [
    {
     "data": {
      "text/plain": "<Figure size 640x480 with 1 Axes>",
      "image/png": "[encoded data removed]"
     },
     "metadata": {},
     "output_type": "display_data"
    }
   ],
   "source": [
    "plt.plot(history_train);"
   ],
   "metadata": {
    "collapsed": false,
    "ExecuteTime": {
     "end_time": "2024-02-14T07:25:52.358616Z",
     "start_time": "2024-02-14T07:25:52.200783Z"
    }
   }
  },
  {
   "cell_type": "code",
   "execution_count": 20,
   "outputs": [],
   "source": [
    "params = unpack_params_fast(w)"
   ],
   "metadata": {
    "collapsed": false,
    "ExecuteTime": {
     "end_time": "2024-02-14T07:25:54.706316Z",
     "start_time": "2024-02-14T07:25:54.697380Z"
    }
   }
  },
  {
   "cell_type": "code",
   "execution_count": 24,
   "outputs": [],
   "source": [
    "'''import pickle # saving params and grid, locally\n",
    "with open(\"params\", \"wb\") as fp:\n",
    "    pickle.dump(params, fp)\n",
    "with open(\"grid\", \"wb\") as fp:\n",
    "    pickle.dump(grid, fp)'''"
   ],
   "metadata": {
    "collapsed": false,
    "ExecuteTime": {
     "end_time": "2024-02-14T07:33:43.721973Z",
     "start_time": "2024-02-14T07:33:43.713088Z"
    }
   }
  },
  {
   "cell_type": "code",
   "execution_count": 29,
   "outputs": [],
   "source": [
    "'''import pickle # loading params and grid, locally\n",
    "with open(\"params\", \"rb\") as fp:\n",
    "    params = pickle.load(fp)\n",
    "with open(\"grid\", \"rb\") as fp:\n",
    "    grid = pickle.load(fp)'''"
   ],
   "metadata": {
    "collapsed": false,
    "ExecuteTime": {
     "end_time": "2024-02-14T07:35:15.907948Z",
     "start_time": "2024-02-14T07:35:15.898979Z"
    }
   }
  },
  {
   "cell_type": "markdown",
   "source": [
    "# Plots for showing the results"
   ],
   "metadata": {
    "collapsed": false
   }
  },
  {
   "cell_type": "code",
   "execution_count": 30,
   "outputs": [
    {
     "data": {
      "text/plain": "<Figure size 1500x500 with 3 Axes>",
      "image/png": "[encoded data removed]"
     },
     "metadata": {},
     "output_type": "display_data"
    }
   ],
   "source": [
    "_, axes = plt.subplots(nrows=1, ncols=3, figsize=(15, 5), squeeze=False)\n",
    "axes = axes.reshape(-1)\n",
    "\n",
    "axes[0].plot([i for i in np.linspace(-1, 1, 50)],\n",
    "         [ANN_single_point_fast(np.array([i, 0]), params) for i in np.linspace(-1, 1, 50)], marker=\"*\")\n",
    "axes[0].set_xlabel(\"x\")\n",
    "axes[0].set_ylabel(\"f\")\n",
    "axes[0].set_title(\"t = 0\")\n",
    "axes[1].plot([i for i in np.linspace(-1, 1, 50)],\n",
    "         [ANN_single_point_fast(np.array([i, 0.5]), params) for i in np.linspace(-1, 1, 50)], marker=\"*\")\n",
    "axes[1].set_xlabel(\"x\")\n",
    "axes[1].set_ylabel(\"f\")\n",
    "axes[1].set_title(\"t = 0.5\")\n",
    "axes[2].plot([i for i in np.linspace(-1, 1, 50)],\n",
    "         [ANN_single_point_fast(np.array([i, 1]), params) for i in np.linspace(-1, 1, 50)], marker=\"*\")\n",
    "axes[2].set_xlabel(\"x\")\n",
    "axes[2].set_ylabel(\"f\")\n",
    "axes[2].set_title(\"t = 1\");"
   ],
   "metadata": {
    "collapsed": false,
    "ExecuteTime": {
     "end_time": "2024-02-14T07:35:17.304204Z",
     "start_time": "2024-02-14T07:35:16.409950Z"
    }
   }
  },
  {
   "cell_type": "code",
   "execution_count": 31,
   "outputs": [
    {
     "data": {
      "text/plain": "<Figure size 2000x300 with 2 Axes>",
      "image/png": "[encoded data removed]"
     },
     "metadata": {},
     "output_type": "display_data"
    }
   ],
   "source": [
    "mat = np.array([\n",
    "    [ANN_single_point_fast(np.array([x, t]), params) for t in np.linspace(0, 1, 500)] for x in np.linspace(-1, 1, 100)\n",
    "])\n",
    "\n",
    "plt.rcParams[\"figure.figsize\"] = (20,3)\n",
    "plt.imshow(mat, cmap='Spectral', interpolation='nearest')\n",
    "plt.colorbar()\n",
    "\n",
    "locs, _ = plt.xticks()\n",
    "plt.xticks(locs[1:], np.round(np.linspace(0, 1, 6), 1))\n",
    "\n",
    "locs, _ = plt.yticks()\n",
    "plt.yticks(locs[1:], np.round(np.linspace(-1, 1, 6), 1))\n",
    "\n",
    "plt.xlabel(\"t\")\n",
    "plt.ylabel(\"x\")\n",
    "plt.title(\"F(x, t)\");"
   ],
   "metadata": {
    "collapsed": false,
    "ExecuteTime": {
     "end_time": "2024-02-14T07:35:30.922240Z",
     "start_time": "2024-02-14T07:35:28.234178Z"
    }
   }
  },
  {
   "cell_type": "code",
   "execution_count": 32,
   "outputs": [
    {
     "data": {
      "text/plain": "<Figure size 2000x300 with 1 Axes>",
      "image/png": "[encoded data removed]"
     },
     "metadata": {},
     "output_type": "display_data"
    }
   ],
   "source": [
    "time_sample = np.linspace(0, 1, num_time_grid)\n",
    "space_sample = np.linspace(-1, 1, num_space_grid)\n",
    "original = np.array([[x, y] for x in space_sample for y in time_sample])\n",
    "plt.scatter([i[1] for i in original], [i[0] for i in original], c=\"b\")\n",
    "rar = [i for i in grid if i not in original]\n",
    "plt.scatter([i[1] for i in rar], [i[0] for i in rar], c=\"r\")\n",
    "plt.xlabel(\"t\")\n",
    "plt.ylabel(\"x\")\n",
    "plt.title(\"RAR points\");"
   ],
   "metadata": {
    "collapsed": false,
    "ExecuteTime": {
     "end_time": "2024-02-14T07:35:33.805647Z",
     "start_time": "2024-02-14T07:35:33.605571Z"
    }
   }
  }
 ],
 "metadata": {
  "kernelspec": {
   "display_name": "Python 3",
   "language": "python",
   "name": "python3"
  },
  "language_info": {
   "codemirror_mode": {
    "name": "ipython",
    "version": 2
   },
   "file_extension": ".py",
   "mimetype": "text/x-python",
   "name": "python",
   "nbconvert_exporter": "python",
   "pygments_lexer": "ipython2",
   "version": "2.7.6"
  }
 },
 "nbformat": 4,
 "nbformat_minor": 0
}
