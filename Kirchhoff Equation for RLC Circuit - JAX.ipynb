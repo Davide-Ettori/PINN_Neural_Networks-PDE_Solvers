{
 "cells": [
  {
   "cell_type": "code",
   "execution_count": 66,
   "metadata": {
    "collapsed": true,
    "ExecuteTime": {
     "end_time": "2024-03-02T15:50:57.472652Z",
     "start_time": "2024-03-02T15:50:57.441050Z"
    }
   },
   "outputs": [],
   "source": [
    "import numpy as np\n",
    "import jax.numpy as jnp\n",
    "import jax.lax as jlx\n",
    "import jax\n",
    "from matplotlib import pyplot as plt\n",
    "from jax.scipy.optimize import minimize"
   ]
  },
  {
   "cell_type": "code",
   "execution_count": 67,
   "outputs": [],
   "source": [
    "# initial parameters of the equation\n",
    "R, L, C, A, PHI = 1/30, 1/15, 5, 2, 3\n",
    "num_params = 1\n",
    "\n",
    "def y_real(X):\n",
    "    x = X[0]\n",
    "    t1 = (19 / (51 * np.sqrt(47))) * np.sin(np.sqrt(47) * x / 4)\n",
    "    t2 = 67 * np.cos(np.sqrt(47) * x / 4) / 51\n",
    "    t3 = np.exp(x / 4)\n",
    "    t4 = (4 / 51) * np.sin(3 * x)\n",
    "    t5 = (16 / 51) * np.cos(3 * x)\n",
    "    return ((t1 + t2) / t3) + t4 - t5"
   ],
   "metadata": {
    "collapsed": false,
    "ExecuteTime": {
     "end_time": "2024-03-02T15:50:57.473262Z",
     "start_time": "2024-03-02T15:50:57.445329Z"
    }
   }
  },
  {
   "cell_type": "code",
   "execution_count": 68,
   "outputs": [
    {
     "data": {
      "text/plain": "<Figure size 640x480 with 1 Axes>",
      "image/png": "[encoded data removed]"
     },
     "metadata": {},
     "output_type": "display_data"
    }
   ],
   "source": [
    "plt.plot([x for x in np.arange(0, 5.1, 0.1)], [y_real([x]) for x in np.arange(0, 5.1, 0.1)]); # plot the objective curve"
   ],
   "metadata": {
    "collapsed": false,
    "ExecuteTime": {
     "end_time": "2024-03-02T15:50:57.628122Z",
     "start_time": "2024-03-02T15:50:57.473076Z"
    }
   }
  },
  {
   "cell_type": "code",
   "execution_count": 69,
   "outputs": [
    {
     "data": {
      "text/plain": "(array([[0]]), array([1]))"
     },
     "execution_count": 69,
     "metadata": {},
     "output_type": "execute_result"
    }
   ],
   "source": [
    "# points for the constraining on initial conditions --> Dirichlet\n",
    "passing_points_x = np.array([[0]])\n",
    "passing_points_y = np.array([1])\n",
    "passing_points_x, passing_points_y"
   ],
   "metadata": {
    "collapsed": false,
    "ExecuteTime": {
     "end_time": "2024-03-02T15:50:57.633677Z",
     "start_time": "2024-03-02T15:50:57.628433Z"
    }
   }
  },
  {
   "cell_type": "code",
   "execution_count": 70,
   "outputs": [
    {
     "data": {
      "text/plain": "(array([[0.]]), array([0]))"
     },
     "execution_count": 70,
     "metadata": {},
     "output_type": "execute_result"
    }
   ],
   "source": [
    "# points for the constraining on initial conditions --> Neumann\n",
    "passing_points_der_x = np.array([[0]], dtype=\"float64\")\n",
    "passing_points_der_y = np.array([0])\n",
    "passing_points_der_x, passing_points_der_y"
   ],
   "metadata": {
    "collapsed": false,
    "ExecuteTime": {
     "end_time": "2024-03-02T15:50:57.644416Z",
     "start_time": "2024-03-02T15:50:57.637263Z"
    }
   }
  },
  {
   "cell_type": "code",
   "execution_count": 71,
   "outputs": [
    {
     "data": {
      "text/plain": "((25, 1),\n array([[0.        ],\n        [0.20833333],\n        [0.41666667],\n        [0.625     ],\n        [0.83333333],\n        [1.04166667],\n        [1.25      ],\n        [1.45833333],\n        [1.66666667],\n        [1.875     ],\n        [2.08333333],\n        [2.29166667],\n        [2.5       ],\n        [2.70833333],\n        [2.91666667],\n        [3.125     ],\n        [3.33333333],\n        [3.54166667],\n        [3.75      ],\n        [3.95833333],\n        [4.16666667],\n        [4.375     ],\n        [4.58333333],\n        [4.79166667],\n        [5.        ]]))"
     },
     "execution_count": 71,
     "metadata": {},
     "output_type": "execute_result"
    }
   ],
   "source": [
    "# grid built on the domain, those are the points where the PINN will try to minimize the residual\n",
    "grid = np.reshape(np.linspace(0, 5, 25), (-1, 1))\n",
    "grid.shape, grid # points in the convex interval I = [0, 5]"
   ],
   "metadata": {
    "collapsed": false,
    "ExecuteTime": {
     "end_time": "2024-03-02T15:50:57.697243Z",
     "start_time": "2024-03-02T15:50:57.644657Z"
    }
   }
  },
  {
   "cell_type": "code",
   "execution_count": 72,
   "outputs": [
    {
     "data": {
      "text/plain": "((20, 1), (20,))"
     },
     "execution_count": 72,
     "metadata": {},
     "output_type": "execute_result"
    }
   ],
   "source": [
    "# experimental datapoints which are known --> those are necessary because I am solving an Inverse Problem\n",
    "data_x = np.reshape(np.arange(0, 5, 0.25), (-1, 1))\n",
    "data_y = np.array([y_real(i) for i in data_x]) + np.random.normal(0, 0.1, (len(data_x), ))\n",
    "data_x.shape, data_y.shape"
   ],
   "metadata": {
    "collapsed": false,
    "ExecuteTime": {
     "end_time": "2024-03-02T15:50:57.697569Z",
     "start_time": "2024-03-02T15:50:57.651925Z"
    }
   }
  },
  {
   "cell_type": "code",
   "execution_count": 73,
   "outputs": [
    {
     "data": {
      "text/plain": "9"
     },
     "execution_count": 73,
     "metadata": {},
     "output_type": "execute_result"
    }
   ],
   "source": [
    "# initializing weights and biases for the whole neural networks\n",
    "def initialize(layers_size):\n",
    "  np.random.seed(0) # for reproducibility\n",
    "  params = list()\n",
    "  for i in range(len(layers_size) - 1):\n",
    "    n, m = layers_size[i + 1], layers_size[i]\n",
    "    params.append(np.random.normal(0, np.sqrt(2 / (n + m)), (n, m))) # matrix --> Normal(0, sqrt(2/n+m))\n",
    "    params.append(np.zeros((n, ))) # vectors --> 0\n",
    "  for _ in range(num_params):\n",
    "    params.append(np.random.normal(0, 1))\n",
    "  return params\n",
    "\n",
    "layers = [1, 12, 12, 12, 1]\n",
    "params = initialize(layers) # simple FFNN --> more layers with less nodes --> typical in PINN\n",
    "len(params)"
   ],
   "metadata": {
    "collapsed": false,
    "ExecuteTime": {
     "end_time": "2024-03-02T15:50:57.697807Z",
     "start_time": "2024-03-02T15:50:57.656672Z"
    }
   }
  },
  {
   "cell_type": "code",
   "execution_count": 74,
   "outputs": [
    {
     "data": {
      "text/plain": "Array(0., dtype=float32)"
     },
     "execution_count": 74,
     "metadata": {},
     "output_type": "execute_result"
    }
   ],
   "source": [
    "# functions for computing the forward pass of the network --> 2 variations\n",
    "def ANN_layer(data, params):\n",
    "    W, b = params\n",
    "    return jlx.map(lambda x: jnp.dot(W, x) + b, data)\n",
    "\n",
    "ANN_layer_fast = jax.jit(ANN_layer)\n",
    "\n",
    "def ANN(x, params):\n",
    "  res = x\n",
    "  for i in range(0, len(params) - 2, 2):\n",
    "      if i >= 2: # ResNet architecture --> extra path for skipping connections in middle layers\n",
    "          res += jnp.tanh(ANN_layer_fast(res, params[i:i + 2])) # tanh(z) as the activation function --> typical in PINN\n",
    "      else:\n",
    "          res = jnp.tanh(ANN_layer_fast(res, params[i:i + 2]))\n",
    "  res = ANN_layer_fast(res, params[-2:])\n",
    "  return res[:, 0]\n",
    "\n",
    "ANN_fast = jax.jit(ANN)\n",
    "\n",
    "def ANN_single_point(point, params): # same function, but for a single datapoint to forcast\n",
    "    res = point\n",
    "    for i in range(0, len(params) - 2, 2):\n",
    "        if i >= 2: # ResNet architecture\n",
    "            res += jnp.tanh(jnp.dot(params[i], res) + params[i + 1])\n",
    "        else:\n",
    "            res = jnp.tanh(jnp.dot(params[i], res) + params[i + 1])\n",
    "    res = jnp.dot(params[-2], res) + params[-1]\n",
    "    return res[0]\n",
    "\n",
    "ANN_single_point_fast = jax.jit(ANN_single_point)\n",
    "ANN_single_point_fast(grid[0], params[:-num_params])"
   ],
   "metadata": {
    "collapsed": false,
    "ExecuteTime": {
     "end_time": "2024-03-02T15:50:57.766218Z",
     "start_time": "2024-03-02T15:50:57.688484Z"
    }
   }
  },
  {
   "cell_type": "code",
   "execution_count": 75,
   "outputs": [],
   "source": [
    "# helper function, used to compute the derivative of the network with respect of the inputs\n",
    "def ANN_separate(x, params):\n",
    "    return ANN_fast(x.reshape((-1, 1)), params)\n",
    "\n",
    "grad_x = jax.jit(jax.jacrev(ANN_separate, argnums=0))\n",
    "\n",
    "# all the specific functions for the derivative needed\n",
    "def y_der_x(x, params):\n",
    "    return jnp.diagonal(grad_x(x, params))\n",
    "y_der_x_fast = jax.jit(y_der_x)\n",
    "\n",
    "grad_x_x = jax.jit(jax.jacrev(y_der_x, argnums=0))\n",
    "\n",
    "def y_der_x_x(x, params):\n",
    "    return jnp.diagonal(grad_x_x(x, params))\n",
    "y_der_x_x_fast = jax.jit(y_der_x_x)"
   ],
   "metadata": {
    "collapsed": false,
    "ExecuteTime": {
     "end_time": "2024-03-02T15:50:57.766580Z",
     "start_time": "2024-03-02T15:50:57.746755Z"
    }
   }
  },
  {
   "cell_type": "code",
   "execution_count": 76,
   "outputs": [
    {
     "data": {
      "text/plain": "Array(3.3839107, dtype=float32)"
     },
     "execution_count": 76,
     "metadata": {},
     "output_type": "execute_result"
    }
   ],
   "source": [
    "# implementation of the loss function, unifying of all the subcomponents of the loss\n",
    "def loss_points(params):\n",
    "    pred_x = ANN_fast(passing_points_x, params)\n",
    "    pred_der = y_der_x_fast(passing_points_der_x[:, 0], params)\n",
    "    pred_data = ANN_fast(data_x, params)\n",
    "\n",
    "    l1 = jnp.mean(jnp.square(passing_points_y - pred_x))\n",
    "    l2 = jnp.mean(jnp.square(passing_points_der_y - pred_der))\n",
    "    l3 = jnp.mean(jnp.square(data_y - pred_data))\n",
    "\n",
    "    return l1 + l2 + l3\n",
    "\n",
    "loss_points_fast = jax.jit(loss_points)\n",
    "\n",
    "def loss_grid(params, pinn_params):\n",
    "    k_pinn = pinn_params[0]\n",
    "    x = grid[:, 0]\n",
    "    y = ANN_fast(grid, params)\n",
    "    y_der = y_der_x_fast(grid[:, 0], params)\n",
    "    y_der_der = y_der_x_x_fast(grid[:, 0], params)\n",
    "    return jnp.mean(jnp.square(y_der_der + (R / L) * y_der + k_pinn * y - A * jnp.cos(PHI * x)))\n",
    "\n",
    "loss_grid_fast = jax.jit(loss_grid)\n",
    "\n",
    "lam_1, lam_2 = 0.5, 1 # in this case the differential loss is more important --> I don't want to learn the noise in the data\n",
    "\n",
    "def loss(params):\n",
    "    return lam_1 * loss_points(params[:-num_params]) + lam_2 * loss_grid(params[:-num_params], params[-num_params:])\n",
    "\n",
    "loss_fast = jax.jit(loss)\n",
    "loss_grad = jax.jit(jax.grad(loss, argnums=0))\n",
    "loss_fast(params)"
   ],
   "metadata": {
    "collapsed": false,
    "ExecuteTime": {
     "end_time": "2024-03-02T15:50:59.135028Z",
     "start_time": "2024-03-02T15:50:58.046433Z"
    }
   }
  },
  {
   "cell_type": "code",
   "execution_count": 77,
   "outputs": [],
   "source": [
    "loss_grad(params);"
   ],
   "metadata": {
    "collapsed": false,
    "ExecuteTime": {
     "end_time": "2024-03-02T15:51:03.301037Z",
     "start_time": "2024-03-02T15:50:59.609908Z"
    }
   }
  },
  {
   "cell_type": "code",
   "execution_count": 78,
   "outputs": [],
   "source": [
    "# those 2 functions are needed to convert the parameters of the network from list of matrices to numpy array and viceversa\n",
    "# those will be called a lot in the training cycle, in both ways, for working with the different shapes\n",
    "# it's necessary because the forward pass uses the list of matrices form, while BFGS uses the numpy array version\n",
    "def flat_list_into_numpy(params):\n",
    "    arr = jnp.concatenate([p.reshape((-1, )) for p in params[:-num_params]])\n",
    "    return jnp.concatenate([arr, jnp.array([params[i] for i in range(-num_params, 0, 1)])])\n",
    "\n",
    "def unpack_params(params):\n",
    "    params_list = list()\n",
    "    idx, length = 0, 0\n",
    "    for i in range(len(layers) - 1):\n",
    "        length = layers[i] * layers[i + 1]\n",
    "        params_list.append(params[idx: idx + length].reshape((layers[i + 1], layers[i])))\n",
    "        idx += length\n",
    "\n",
    "        length = layers[i + 1]\n",
    "        params_list.append(params[idx: idx + length])\n",
    "        idx += length\n",
    "    for i in range(-num_params, 0, 1):\n",
    "        params_list.append(params[i])\n",
    "    return params_list\n",
    "\n",
    "unpack_params_fast = jax.jit(unpack_params)\n",
    "unpack_params_fast(flat_list_into_numpy(params));"
   ],
   "metadata": {
    "collapsed": false,
    "ExecuteTime": {
     "end_time": "2024-03-02T15:51:03.349065Z",
     "start_time": "2024-03-02T15:51:03.307037Z"
    }
   }
  },
  {
   "cell_type": "code",
   "execution_count": 79,
   "outputs": [],
   "source": [
    "def BFGS(w, dw, B_inv, lr_old):\n",
    "    # search direction\n",
    "    dir_v = -(B_inv @ dw)\n",
    "    # line search\n",
    "    lr = minimize(lambda x: loss_fast(unpack_params_fast(w + x[0] * dir_v)), jnp.array([0.1]), method=\"BFGS\").x[0]\n",
    "    if lr is None: # scipy may fail in finding the optimal search direction\n",
    "        lr = lr_old\n",
    "    lr_old = lr\n",
    "    w_new = w + lr * dir_v # I use + sign because I inverted the sign of dir before\n",
    "    dw_new = flat_list_into_numpy(loss_grad(unpack_params_fast(w_new)))\n",
    "    # Sherman-Morrison update\n",
    "    s = w_new - w\n",
    "    y = dw_new - dw\n",
    "    E = I - jnp.outer(y, s) / jnp.inner(y, s)\n",
    "    B_inv = E.T @ B_inv @ E + jnp.outer(s, s) / jnp.inner(y, s)\n",
    "    w = w_new\n",
    "    dw = dw_new\n",
    "    return w, dw, B_inv, lr_old\n",
    "\n",
    "BFGS_fast = jax.jit(BFGS)"
   ],
   "metadata": {
    "collapsed": false,
    "ExecuteTime": {
     "end_time": "2024-03-02T15:51:03.652624Z",
     "start_time": "2024-03-02T15:51:03.648178Z"
    }
   }
  },
  {
   "cell_type": "code",
   "execution_count": 80,
   "outputs": [
    {
     "name": "stdout",
     "output_type": "stream",
     "text": [
      "epoch 0\n",
      "loss: 2.726933479309082\n",
      "gradient norm: 2.7164974212646484\n",
      "\n",
      "epoch 10\n",
      "loss: 1.5333706140518188\n",
      "gradient norm: 1.4813963174819946\n",
      "\n",
      "epoch 20\n",
      "loss: 0.9204464554786682\n",
      "gradient norm: 1.6428134441375732\n",
      "\n",
      "epoch 30\n",
      "loss: 0.43785256147384644\n",
      "gradient norm: 1.929060459136963\n",
      "\n",
      "epoch 40\n",
      "loss: 0.29110878705978394\n",
      "gradient norm: 2.610450506210327\n",
      "\n",
      "epoch 50\n",
      "loss: 0.14448903501033783\n",
      "gradient norm: 1.0892579555511475\n",
      "\n",
      "epoch 60\n",
      "loss: 0.10077992081642151\n",
      "gradient norm: 0.5464351773262024\n",
      "\n",
      "epoch 70\n",
      "loss: 0.06597378849983215\n",
      "gradient norm: 1.1905198097229004\n",
      "\n",
      "epoch 80\n",
      "loss: 0.026969511061906815\n",
      "gradient norm: 1.0109145641326904\n",
      "\n",
      "epoch 90\n",
      "loss: 0.007007726468145847\n",
      "gradient norm: 0.3992540240287781\n",
      "\n",
      "epoch 100\n",
      "loss: 0.0035235818941146135\n",
      "gradient norm: 0.12937617301940918\n",
      "\n",
      "epoch 110\n",
      "loss: 0.00339106866158545\n",
      "gradient norm: 0.012317648157477379\n",
      "\n",
      "epoch 120\n",
      "loss: 0.003307485952973366\n",
      "gradient norm: 0.011294920928776264\n",
      "\n",
      "epoch 130\n",
      "loss: 0.0032488354481756687\n",
      "gradient norm: 0.013890402391552925\n",
      "\n",
      "epoch 140\n",
      "loss: 0.0032011165749281645\n",
      "gradient norm: 0.01789381355047226\n",
      "\n",
      "epoch 150\n",
      "loss: 0.003179771127179265\n",
      "gradient norm: 0.005231145303696394\n",
      "\n",
      "epoch 160\n",
      "loss: 0.0031754702795296907\n",
      "gradient norm: 0.0014470717869699001\n",
      "\n",
      "epoch 170\n",
      "loss: 0.0031743713188916445\n",
      "gradient norm: 0.0013857870362699032\n",
      "\n",
      "epoch 180\n",
      "loss: 0.0031734260264784098\n",
      "gradient norm: 0.0026512371841818094\n",
      "\n",
      "epoch 190\n",
      "loss: 0.003171375021338463\n",
      "gradient norm: 0.002508238423615694\n",
      "\n",
      "epoch 200\n",
      "loss: 0.003168487688526511\n",
      "gradient norm: 0.003871695604175329\n",
      "\n",
      "epoch 210\n",
      "loss: 0.0031667910516262054\n",
      "gradient norm: 0.002756047761067748\n",
      "\n",
      "epoch 220\n",
      "loss: 0.003165762173011899\n",
      "gradient norm: 0.0007501465734094381\n",
      "\n",
      "epoch 230\n",
      "loss: 0.00316406786441803\n",
      "gradient norm: 0.0019314554519951344\n",
      "\n",
      "epoch 240\n",
      "loss: 0.003161365631967783\n",
      "gradient norm: 0.002393198199570179\n",
      "\n",
      "epoch 250\n",
      "loss: 0.003159611253067851\n",
      "gradient norm: 0.0017120980191975832\n",
      "\n",
      "epoch 260\n",
      "loss: 0.0031589679419994354\n",
      "gradient norm: 0.0013394674751907587\n",
      "\n",
      "epoch 270\n",
      "loss: 0.003158689709380269\n",
      "gradient norm: 0.0015814290381968021\n",
      "\n",
      "epoch 280\n",
      "loss: 0.003158499486744404\n",
      "gradient norm: 0.0019684454891830683\n",
      "\n",
      "epoch 290\n",
      "loss: 0.003158132778480649\n",
      "gradient norm: 0.0019905497319996357\n",
      "\n",
      "\n",
      "\n",
      "Loss of the final iteration : 0.0031578748021274805\n",
      "\n"
     ]
    }
   ],
   "source": [
    "# BFGS optimization\n",
    "w = flat_list_into_numpy(initialize(layers))\n",
    "\n",
    "N = len(w)\n",
    "max_epochs = 300\n",
    "tol = 1e-6\n",
    "\n",
    "dw = flat_list_into_numpy(loss_grad(unpack_params_fast(w)))\n",
    "I = jnp.eye(N)\n",
    "B_inv = I.copy()\n",
    "history_train = list()\n",
    "history_k = list()\n",
    "\n",
    "lr_old = 0.1\n",
    "\n",
    "epoch = 0\n",
    "while epoch < max_epochs and np.linalg.norm(dw) > tol:\n",
    "    history_k.append(w[-1])\n",
    "    w, dw, B_inv, lr_old = BFGS_fast(w, dw, B_inv, lr_old)\n",
    "    if epoch % 10 == 0:\n",
    "        l = loss_fast(unpack_params_fast(w))\n",
    "        history_train.append(l)\n",
    "        print(f\"epoch {epoch}\")\n",
    "        print(f\"loss: {l}\")\n",
    "        print(f\"gradient norm: {np.linalg.norm(dw)}\\n\")\n",
    "    epoch += 1\n",
    "\n",
    "print(f\"\\n\\nLoss of the final iteration : {loss_fast(unpack_params_fast(w))}\\n\")"
   ],
   "metadata": {
    "collapsed": false,
    "ExecuteTime": {
     "end_time": "2024-03-02T15:52:01.939684Z",
     "start_time": "2024-03-02T15:51:03.656286Z"
    }
   }
  },
  {
   "cell_type": "code",
   "execution_count": 81,
   "outputs": [
    {
     "data": {
      "text/plain": "<Figure size 640x480 with 1 Axes>",
      "image/png": "[encoded data removed]"
     },
     "metadata": {},
     "output_type": "display_data"
    }
   ],
   "source": [
    "plt.plot(history_train);"
   ],
   "metadata": {
    "collapsed": false,
    "ExecuteTime": {
     "end_time": "2024-03-02T15:52:02.089818Z",
     "start_time": "2024-03-02T15:52:01.946251Z"
    }
   }
  },
  {
   "cell_type": "code",
   "execution_count": 82,
   "outputs": [],
   "source": [
    "params = unpack_params_fast(w)"
   ],
   "metadata": {
    "collapsed": false,
    "ExecuteTime": {
     "end_time": "2024-03-02T15:52:02.095081Z",
     "start_time": "2024-03-02T15:52:02.091100Z"
    }
   }
  },
  {
   "cell_type": "markdown",
   "source": [
    "# Plots for showing the results"
   ],
   "metadata": {
    "collapsed": false
   }
  },
  {
   "cell_type": "code",
   "execution_count": 83,
   "outputs": [],
   "source": [
    "c = 1 / (L * params[-1]) # this operation is needed to extract the Capacity from the learned parameter"
   ],
   "metadata": {
    "collapsed": false,
    "ExecuteTime": {
     "end_time": "2024-03-02T15:52:02.097651Z",
     "start_time": "2024-03-02T15:52:02.094607Z"
    }
   }
  },
  {
   "cell_type": "code",
   "execution_count": 84,
   "outputs": [
    {
     "data": {
      "text/plain": "<Figure size 640x480 with 1 Axes>",
      "image/png": "[encoded data removed]"
     },
     "metadata": {},
     "output_type": "display_data"
    }
   ],
   "source": [
    "plt.title(\"Variable C - JAX version\")\n",
    "plt.axhline(y=C, c=\"r\", linestyle=\"dashed\")\n",
    "plt.plot(1 / (L * np.array(history_k))); # history on the parameter C, strongly non-monotonic. Very different from DeepXDE"
   ],
   "metadata": {
    "collapsed": false,
    "ExecuteTime": {
     "end_time": "2024-03-02T15:52:02.284903Z",
     "start_time": "2024-03-02T15:52:02.104670Z"
    }
   }
  },
  {
   "cell_type": "code",
   "execution_count": 85,
   "outputs": [
    {
     "data": {
      "text/plain": "<Figure size 640x480 with 1 Axes>",
      "image/png": "[encoded data removed]"
     },
     "metadata": {},
     "output_type": "display_data"
    }
   ],
   "source": [
    "plt.title(\"i(t) - JAX version\")\n",
    "plt.plot([x for x in np.arange(0, 5.1, 0.1)], [ANN_single_point_fast(np.array([x]), params[:-num_params]) for x in np.arange(0, 5.1, 0.1)], marker=\"*\", zorder=0)\n",
    "plt.plot([x for x in np.arange(0, 5.1, 0.1)], [y_real([x]) for x in np.arange(0, 5.1, 0.1)], zorder=1)\n",
    "plt.scatter([x for x in np.linspace(0, 5, 25)], [0 for x in np.linspace(0, 5, 25)], marker=\"o\", c=\"purple\", zorder=-2)\n",
    "plt.scatter([x[0] for x in data_x], [x for x in data_y], c=\"g\", zorder=3);"
   ],
   "metadata": {
    "collapsed": false,
    "ExecuteTime": {
     "end_time": "2024-03-02T15:52:02.470909Z",
     "start_time": "2024-03-02T15:52:02.284752Z"
    }
   }
  },
  {
   "cell_type": "code",
   "execution_count": 86,
   "outputs": [
    {
     "name": "stdout",
     "output_type": "stream",
     "text": [
      "Capacity real = 5, capacity from the PINN = 5.06\n"
     ]
    }
   ],
   "source": [
    "print(f\"Capacity real = {C}, capacity from the PINN = {np.round(np.float64(c), 2)}\")"
   ],
   "metadata": {
    "collapsed": false,
    "ExecuteTime": {
     "end_time": "2024-03-02T15:52:02.477908Z",
     "start_time": "2024-03-02T15:52:02.472369Z"
    }
   }
  }
 ],
 "metadata": {
  "kernelspec": {
   "display_name": "Python 3",
   "language": "python",
   "name": "python3"
  },
  "language_info": {
   "codemirror_mode": {
    "name": "ipython",
    "version": 2
   },
   "file_extension": ".py",
   "mimetype": "text/x-python",
   "name": "python",
   "nbconvert_exporter": "python",
   "pygments_lexer": "ipython2",
   "version": "2.7.6"
  }
 },
 "nbformat": 4,
 "nbformat_minor": 0
}
