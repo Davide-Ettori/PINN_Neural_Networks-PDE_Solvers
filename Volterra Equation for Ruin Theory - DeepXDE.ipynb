{
 "cells": [
  {
   "cell_type": "code",
   "execution_count": 1,
   "outputs": [
    {
     "name": "stderr",
     "output_type": "stream",
     "text": [
      "2024-02-28 08:53:54.673980: I tensorflow/core/platform/cpu_feature_guard.cc:182] This TensorFlow binary is optimized to use available CPU instructions in performance-critical operations.\n",
      "To enable the following instructions: AVX2 FMA, in other operations, rebuild TensorFlow with the appropriate compiler flags.\n",
      "Using backend: tensorflow.compat.v1\n",
      "Other supported backends: tensorflow, pytorch, jax, paddle.\n",
      "paddle supports more examples now and is recommended.\n"
     ]
    },
    {
     "name": "stdout",
     "output_type": "stream",
     "text": [
      "WARNING:tensorflow:From /usr/local/lib/python3.9/site-packages/tensorflow/python/compat/v2_compat.py:107: disable_resource_variables (from tensorflow.python.ops.variable_scope) is deprecated and will be removed in a future version.\n",
      "Instructions for updating:\n",
      "non-resource variables are not supported in the long term\n"
     ]
    }
   ],
   "source": [
    "import deepxde as dde\n",
    "from deepxde.backend import tf\n",
    "import matplotlib.pyplot as plt\n",
    "import numpy as np"
   ],
   "metadata": {
    "collapsed": false,
    "ExecuteTime": {
     "end_time": "2024-02-28T07:53:59.959016Z",
     "start_time": "2024-02-28T07:53:53.211641Z"
    }
   }
  },
  {
   "cell_type": "code",
   "execution_count": 2,
   "outputs": [],
   "source": [
    "def ide(x, y, int_mat):\n",
    "    rhs = tf.matmul(int_mat, tf.slice(y, [0, 0], [int_mat.shape[1], y.shape[1]]))\n",
    "    lhs1 = tf.gradients(y, x)[0]\n",
    "    left = tf.slice(lhs1 + y, [0, 0], [rhs.shape[0], rhs.shape[1]])\n",
    "    return left - rhs\n",
    "\n",
    "def kernel(x, s):\n",
    "    return np.exp(s - x)\n",
    "\n",
    "def func(x):\n",
    "    return np.exp(-x) * np.cosh(x)"
   ],
   "metadata": {
    "collapsed": false,
    "ExecuteTime": {
     "end_time": "2024-02-28T07:53:59.965826Z",
     "start_time": "2024-02-28T07:53:59.962650Z"
    }
   }
  },
  {
   "cell_type": "code",
   "execution_count": 3,
   "outputs": [],
   "source": [
    "geom = dde.geometry.TimeDomain(0, 5)\n",
    "ic = dde.icbc.IC(geom, lambda x: 1, lambda _, on_initial: on_initial)\n",
    "\n",
    "quad_deg = 20\n",
    "data = dde.data.IDE(\n",
    "    geom,\n",
    "    ide,\n",
    "    ic,\n",
    "    quad_deg,\n",
    "    kernel=kernel,\n",
    "    num_domain=10,\n",
    "    num_boundary=1,\n",
    "    train_distribution=\"uniform\",\n",
    ")"
   ],
   "metadata": {
    "collapsed": false,
    "ExecuteTime": {
     "end_time": "2024-02-28T07:53:59.972456Z",
     "start_time": "2024-02-28T07:53:59.969206Z"
    }
   }
  },
  {
   "cell_type": "code",
   "execution_count": 4,
   "outputs": [
    {
     "name": "stdout",
     "output_type": "stream",
     "text": [
      "Compiling model...\n",
      "Building feed-forward neural network...\n",
      "'build' took 0.057751 s\n",
      "\n",
      "'compile' took 0.200733 s\n",
      "\n"
     ]
    },
    {
     "name": "stderr",
     "output_type": "stream",
     "text": [
      "/usr/local/lib/python3.9/site-packages/deepxde/nn/tensorflow_compat_v1/fnn.py:116: UserWarning: `tf.layers.dense` is deprecated and will be removed in a future version. Please use `tf.keras.layers.Dense` instead.\n",
      "  return tf.layers.dense(\n"
     ]
    },
    {
     "name": "stdout",
     "output_type": "stream",
     "text": [
      "Training model...\n",
      "\n",
      "Step      Train loss              Test loss               Test metric\n",
      "0         [1.03e-01, 1.00e+00]    [1.03e-01, 0.00e+00]    []  \n",
      "INFO:tensorflow:Optimization terminated with:\n",
      "  Message: CONVERGENCE: REL_REDUCTION_OF_F_<=_FACTR*EPSMCH\n",
      "  Objective function value: 0.000000\n",
      "  Number of iterations: 57\n",
      "  Number of functions evaluations: 89\n",
      "89        [5.29e-09, 5.68e-14]    [5.29e-09, 0.00e+00]    []  \n",
      "\n",
      "Best model at step 89:\n",
      "  train loss: 5.29e-09\n",
      "  test loss: 5.29e-09\n",
      "  test metric: []\n",
      "\n",
      "'train' took 0.251894 s\n",
      "\n"
     ]
    },
    {
     "data": {
      "text/plain": "(<deepxde.model.LossHistory at 0x1111b9cd0>,\n <deepxde.model.TrainState at 0x182da3550>)"
     },
     "execution_count": 4,
     "metadata": {},
     "output_type": "execute_result"
    }
   ],
   "source": [
    "layer_size = [1, 20, 20, 20, 1]\n",
    "activation = \"tanh\"\n",
    "initializer = \"Glorot uniform\"\n",
    "net = dde.nn.FNN(layer_size, activation, initializer)\n",
    "\n",
    "model = dde.Model(data, net)\n",
    "model.compile(\"L-BFGS\")\n",
    "model.train()"
   ],
   "metadata": {
    "collapsed": false,
    "ExecuteTime": {
     "end_time": "2024-02-28T07:54:00.439466Z",
     "start_time": "2024-02-28T07:53:59.974968Z"
    }
   }
  },
  {
   "cell_type": "code",
   "execution_count": 5,
   "outputs": [
    {
     "name": "stdout",
     "output_type": "stream",
     "text": [
      "L2 relative error: 0.0016857149\n"
     ]
    }
   ],
   "source": [
    "X = geom.uniform_points(100)\n",
    "y_true = func(X)\n",
    "y_pred = model.predict(X)\n",
    "print(\"L2 relative error:\", dde.metrics.l2_relative_error(y_true, y_pred))"
   ],
   "metadata": {
    "collapsed": false,
    "ExecuteTime": {
     "end_time": "2024-02-28T07:54:00.480890Z",
     "start_time": "2024-02-28T07:54:00.440405Z"
    }
   }
  },
  {
   "cell_type": "code",
   "execution_count": 6,
   "outputs": [
    {
     "data": {
      "text/plain": "<Figure size 640x480 with 1 Axes>",
      "image/png": "[encoded data removed]"
     },
     "metadata": {},
     "output_type": "display_data"
    }
   ],
   "source": [
    "plt.title(\"Y(t) - DeepXDE version\")\n",
    "plt.plot(X, y_true)\n",
    "plt.plot(X, y_pred, \"*\");"
   ],
   "metadata": {
    "collapsed": false,
    "ExecuteTime": {
     "end_time": "2024-02-28T07:54:00.657372Z",
     "start_time": "2024-02-28T07:54:00.454476Z"
    }
   }
  }
 ],
 "metadata": {
  "kernelspec": {
   "display_name": "Python 3",
   "language": "python",
   "name": "python3"
  },
  "language_info": {
   "codemirror_mode": {
    "name": "ipython",
    "version": 2
   },
   "file_extension": ".py",
   "mimetype": "text/x-python",
   "name": "python",
   "nbconvert_exporter": "python",
   "pygments_lexer": "ipython2",
   "version": "2.7.6"
  }
 },
 "nbformat": 4,
 "nbformat_minor": 0
}
