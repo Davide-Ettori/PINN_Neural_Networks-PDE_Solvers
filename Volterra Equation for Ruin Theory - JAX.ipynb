{
 "cells": [
  {
   "cell_type": "code",
   "execution_count": 1,
   "metadata": {
    "collapsed": true,
    "ExecuteTime": {
     "end_time": "2024-03-02T17:52:05.724990Z",
     "start_time": "2024-03-02T17:52:04.247698Z"
    }
   },
   "outputs": [],
   "source": [
    "import numpy as np\n",
    "import jax.numpy as jnp\n",
    "import jax.lax as jlx\n",
    "import jax\n",
    "from matplotlib import pyplot as plt\n",
    "from jax.scipy.integrate import trapezoid\n",
    "from jax.scipy.optimize import minimize"
   ]
  },
  {
   "cell_type": "code",
   "execution_count": 2,
   "outputs": [],
   "source": [
    "y_real = lambda x: np.exp(-x[0]) * np.cosh(x[0]) # real function that solves the first-order Volterra Equation"
   ],
   "metadata": {
    "collapsed": false,
    "ExecuteTime": {
     "end_time": "2024-03-02T17:52:05.728652Z",
     "start_time": "2024-03-02T17:52:05.725232Z"
    }
   }
  },
  {
   "cell_type": "code",
   "execution_count": 3,
   "outputs": [
    {
     "data": {
      "text/plain": "<Figure size 640x480 with 1 Axes>",
      "image/png": "[encoded data removed]"
     },
     "metadata": {},
     "output_type": "display_data"
    }
   ],
   "source": [
    "plt.plot([x for x in np.arange(0, 5.1, 0.1)], [y_real([x]) for x in np.arange(0, 5.1, 0.1)]); # plot the objective curve"
   ],
   "metadata": {
    "collapsed": false,
    "ExecuteTime": {
     "end_time": "2024-03-02T17:52:05.897605Z",
     "start_time": "2024-03-02T17:52:05.729353Z"
    }
   }
  },
  {
   "cell_type": "code",
   "execution_count": 4,
   "outputs": [
    {
     "data": {
      "text/plain": "(array([[0]]), array([1]))"
     },
     "execution_count": 4,
     "metadata": {},
     "output_type": "execute_result"
    }
   ],
   "source": [
    "# points for the constraining on initial conditions --> Dirichlet\n",
    "passing_points_x = np.array([[0]])\n",
    "passing_points_y = np.array([1])\n",
    "passing_points_x, passing_points_y"
   ],
   "metadata": {
    "collapsed": false,
    "ExecuteTime": {
     "end_time": "2024-03-02T17:52:05.905744Z",
     "start_time": "2024-03-02T17:52:05.900720Z"
    }
   }
  },
  {
   "cell_type": "code",
   "execution_count": 5,
   "outputs": [
    {
     "data": {
      "text/plain": "((11, 1),\n array([[0. ],\n        [0.5],\n        [1. ],\n        [1.5],\n        [2. ],\n        [2.5],\n        [3. ],\n        [3.5],\n        [4. ],\n        [4.5],\n        [5. ]]))"
     },
     "execution_count": 5,
     "metadata": {},
     "output_type": "execute_result"
    }
   ],
   "source": [
    "# grid built on the domain, those are the points where the PINN will try to minimize the residual\n",
    "grid = np.reshape(np.arange(0, 5.5, 0.5), (-1, 1))\n",
    "grid.shape, grid # points in the convex interval I = [0, 5]"
   ],
   "metadata": {
    "collapsed": false,
    "ExecuteTime": {
     "end_time": "2024-03-02T17:52:05.912518Z",
     "start_time": "2024-03-02T17:52:05.907043Z"
    }
   }
  },
  {
   "cell_type": "code",
   "execution_count": 6,
   "outputs": [
    {
     "data": {
      "text/plain": "8"
     },
     "execution_count": 6,
     "metadata": {},
     "output_type": "execute_result"
    }
   ],
   "source": [
    "# initializing weights and biases for the whole neural networks\n",
    "def initialize(layers_size):\n",
    "  np.random.seed(0) # for reproducibility\n",
    "  params = list()\n",
    "  for i in range(len(layers_size) - 1):\n",
    "    n, m = layers_size[i + 1], layers_size[i]\n",
    "    params.append(np.random.normal(0, np.sqrt(2 / (n + m)), (n, m))) # matrix --> Normal(0, sqrt(2/n+m))\n",
    "    params.append(np.zeros((n, ))) # vectors --> 0\n",
    "  return params\n",
    "\n",
    "layers = [1, 16, 8, 4, 1]\n",
    "params = initialize(layers) # simple FFNN --> more layers with less nodes --> typical in PINN\n",
    "len(params)"
   ],
   "metadata": {
    "collapsed": false,
    "ExecuteTime": {
     "end_time": "2024-03-02T17:52:05.996321Z",
     "start_time": "2024-03-02T17:52:05.915461Z"
    }
   }
  },
  {
   "cell_type": "code",
   "execution_count": 7,
   "outputs": [
    {
     "data": {
      "text/plain": "Array(1., dtype=float32)"
     },
     "execution_count": 7,
     "metadata": {},
     "output_type": "execute_result"
    }
   ],
   "source": [
    "# functions for computing the forward pass of the network --> 2 variations\n",
    "def ANN_layer(data, params):\n",
    "    W, b = params\n",
    "    return jlx.map(lambda x: jnp.dot(W, x) + b, data)\n",
    "\n",
    "ANN_layer_fast = jax.jit(ANN_layer)\n",
    "\n",
    "def ANN(x, params): # classic ANN architecture with FeedForward layers\n",
    "  res = x\n",
    "  for i in range(0, len(params) - 2, 2):\n",
    "      res = jnp.tanh(ANN_layer_fast(res, params[i:i + 2])) # tanh(z) as the activation function --> typical in PINN\n",
    "  res = ANN_layer_fast(res, params[-2:])\n",
    "  return (res[:, 0] * x[:, 0]) + 1 # enforce Hard Constrains\n",
    "\n",
    "ANN_fast = jax.jit(ANN)\n",
    "\n",
    "def ANN_single_point(point, params): # same function, but for a single datapoint to forcast\n",
    "    res = point\n",
    "    for i in range(0, len(params) - 2, 2):\n",
    "        res = jnp.tanh(jnp.dot(params[i], res) + params[i + 1])\n",
    "    res = jnp.dot(params[-2], res) + params[-1]\n",
    "    return (res[0] * point[0]) + 1 # enforce Hard Constrains\n",
    "\n",
    "ANN_single_point_fast = jax.jit(ANN_single_point)\n",
    "\n",
    "ANN_single_point_fast(grid[0], initialize(layers))"
   ],
   "metadata": {
    "collapsed": false,
    "ExecuteTime": {
     "end_time": "2024-03-02T17:52:06.090977Z",
     "start_time": "2024-03-02T17:52:05.950915Z"
    }
   }
  },
  {
   "cell_type": "code",
   "execution_count": 8,
   "outputs": [
    {
     "data": {
      "text/plain": "Array(3.1104128, dtype=float32)"
     },
     "execution_count": 8,
     "metadata": {},
     "output_type": "execute_result"
    }
   ],
   "source": [
    "# numerical approximation of the integral\n",
    "def integrate(a, b, params): # Trapezoidal Rule\n",
    "    x = jnp.linspace(a, b, 100)\n",
    "    y = ANN_fast(x.reshape((-1, 1)), params) * jnp.exp(x - b)\n",
    "    return trapezoid(y, x)\n",
    "\n",
    "integrate(0, 5, params)"
   ],
   "metadata": {
    "collapsed": false,
    "ExecuteTime": {
     "end_time": "2024-03-02T17:52:06.529465Z",
     "start_time": "2024-03-02T17:52:06.087167Z"
    }
   }
  },
  {
   "cell_type": "code",
   "execution_count": 9,
   "outputs": [],
   "source": [
    "# helper function, used to compute the derivative of the network with respect of the inputs\n",
    "def ANN_separate(x, params):\n",
    "    return ANN_fast(x.reshape((-1, 1)), params)\n",
    "\n",
    "grad_x = jax.jit(jax.jacrev(ANN_separate, argnums=0))\n",
    "\n",
    "# all the specific functions for the derivative needed\n",
    "def y_der_x_(x, params):\n",
    "    return jnp.diagonal(grad_x(x, params))\n",
    "y_der_x_fast_ = jax.jit(y_der_x_)\n",
    "\n",
    "# function for computing the numerical integral on all the points at the same time\n",
    "def y_integral(b, params):\n",
    "    return jlx.map(lambda x: integrate(0, x, params), b)\n",
    "\n",
    "y_integral_fast = jax.jit(y_integral)"
   ],
   "metadata": {
    "collapsed": false,
    "ExecuteTime": {
     "end_time": "2024-03-02T17:52:06.535091Z",
     "start_time": "2024-03-02T17:52:06.529103Z"
    }
   }
  },
  {
   "cell_type": "code",
   "execution_count": 10,
   "outputs": [
    {
     "data": {
      "text/plain": "Array(1.3326387, dtype=float32)"
     },
     "execution_count": 10,
     "metadata": {},
     "output_type": "execute_result"
    }
   ],
   "source": [
    "# implementation of the loss function, unifying of all the subcomponents of the loss\n",
    "def loss_grid(params):\n",
    "    y = ANN_fast(grid, params)\n",
    "    y_der = y_der_x_fast_(grid[:, 0], params)\n",
    "    y_int = y_integral_fast(grid[:, 0], params)\n",
    "    return jnp.mean(jnp.square(y_der + y - y_int))\n",
    "\n",
    "loss_grid_fast = jax.jit(loss_grid)\n",
    "\n",
    "def loss(params):\n",
    "    return loss_grid(params)\n",
    "\n",
    "loss_fast = jax.jit(loss)\n",
    "loss_grad = jax.jit(jax.grad(loss, argnums=0))\n",
    "loss_fast(params)"
   ],
   "metadata": {
    "collapsed": false,
    "ExecuteTime": {
     "end_time": "2024-03-02T17:52:07.187330Z",
     "start_time": "2024-03-02T17:52:06.596191Z"
    }
   }
  },
  {
   "cell_type": "code",
   "execution_count": 11,
   "outputs": [],
   "source": [
    "loss_grad(params);"
   ],
   "metadata": {
    "collapsed": false,
    "ExecuteTime": {
     "end_time": "2024-03-02T17:52:09.330904Z",
     "start_time": "2024-03-02T17:52:07.562010Z"
    }
   }
  },
  {
   "cell_type": "code",
   "execution_count": 12,
   "outputs": [],
   "source": [
    "# those 2 functions are needed to convert the parameters of the network from list of matrices to numpy array and viceversa\n",
    "# those will be called a lot in the training cycle, in both ways, for working with the different shapes\n",
    "# it's necessary because the forward pass uses the list of matrices form, while BFGS uses the numpy array version\n",
    "def flat_list_into_numpy(params):\n",
    "    return jnp.concatenate([p.reshape((-1, )) for p in params])\n",
    "\n",
    "def unpack_params(params):\n",
    "    params_list = list()\n",
    "    idx, length = 0, 0\n",
    "    for i in range(len(layers) - 1):\n",
    "        length = layers[i] * layers[i + 1]\n",
    "        params_list.append(params[idx: idx + length].reshape((layers[i + 1], layers[i])))\n",
    "        idx += length\n",
    "\n",
    "        length = layers[i + 1]\n",
    "        params_list.append(params[idx: idx + length])\n",
    "        idx += length\n",
    "    return params_list\n",
    "\n",
    "unpack_params_fast = jax.jit(unpack_params)\n",
    "unpack_params_fast(flat_list_into_numpy(params));"
   ],
   "metadata": {
    "collapsed": false,
    "ExecuteTime": {
     "end_time": "2024-03-02T17:52:09.478745Z",
     "start_time": "2024-03-02T17:52:09.341404Z"
    }
   }
  },
  {
   "cell_type": "code",
   "execution_count": 13,
   "outputs": [],
   "source": [
    "def BFGS(w, dw, B_inv, lr_old):\n",
    "    # search direction\n",
    "    dir_v = -(B_inv @ dw)\n",
    "    # line search\n",
    "    lr = minimize(lambda x: loss_fast(unpack_params_fast(w + x[0] * dir_v)), jnp.array([0.1]), method=\"BFGS\").x[0]\n",
    "    if lr is None: # scipy may fail in finding the optimal search direction\n",
    "        lr = lr_old\n",
    "    lr_old = lr\n",
    "    w_new = w + lr * dir_v # I use + sign because I inverted the sign of dir before\n",
    "    dw_new = flat_list_into_numpy(loss_grad(unpack_params_fast(w_new)))\n",
    "    # Sherman-Morrison update\n",
    "    s = w_new - w\n",
    "    y = dw_new - dw\n",
    "    E = I - jnp.outer(y, s) / jnp.inner(y, s)\n",
    "    B_inv = E.T @ B_inv @ E + jnp.outer(s, s) / jnp.inner(y, s)\n",
    "    w = w_new\n",
    "    dw = dw_new\n",
    "    return w, dw, B_inv, lr_old\n",
    "\n",
    "BFGS_fast = jax.jit(BFGS)"
   ],
   "metadata": {
    "collapsed": false,
    "ExecuteTime": {
     "end_time": "2024-03-02T17:52:09.485946Z",
     "start_time": "2024-03-02T17:52:09.478233Z"
    }
   }
  },
  {
   "cell_type": "code",
   "execution_count": 14,
   "outputs": [
    {
     "name": "stdout",
     "output_type": "stream",
     "text": [
      "epoch 0\n",
      "loss: 0.11642815917730331\n",
      "gradient norm: 0.4869726598262787\n",
      "epoch 10\n",
      "loss: 9.824796143220738e-05\n",
      "gradient norm: 0.003077896311879158\n",
      "epoch 20\n",
      "loss: 4.008178075309843e-05\n",
      "gradient norm: 0.0022935611195862293\n",
      "epoch 30\n",
      "loss: 9.419131856702734e-06\n",
      "gradient norm: 0.0009755691280588508\n",
      "epoch 40\n",
      "loss: 4.675564923672937e-06\n",
      "gradient norm: 0.0004271373909432441\n",
      "epoch 50\n",
      "loss: 4.02241221308941e-06\n",
      "gradient norm: 0.00013783341273665428\n",
      "epoch 60\n",
      "loss: 3.871909939334728e-06\n",
      "gradient norm: 9.117864829022437e-05\n",
      "epoch 70\n",
      "loss: 3.7499473819480045e-06\n",
      "gradient norm: 0.00017648372158873826\n",
      "epoch 80\n",
      "loss: 3.5220114114054013e-06\n",
      "gradient norm: 0.0002327250549569726\n",
      "epoch 90\n",
      "loss: 3.1162619507085765e-06\n",
      "gradient norm: 0.00019310812058392912\n",
      "epoch 100\n",
      "loss: 2.4762605335126864e-06\n",
      "gradient norm: 0.0003753636556211859\n",
      "epoch 110\n",
      "loss: 1.4546880038324161e-06\n",
      "gradient norm: 0.00062914052978158\n",
      "epoch 120\n",
      "loss: 4.5096098233443627e-07\n",
      "gradient norm: 0.00040110459667630494\n",
      "epoch 130\n",
      "loss: 1.2541862304260576e-07\n",
      "gradient norm: 0.0001541382516734302\n",
      "epoch 140\n",
      "loss: 7.386021394495401e-08\n",
      "gradient norm: 5.695536674465984e-05\n",
      "epoch 150\n",
      "loss: 6.66587780528971e-08\n",
      "gradient norm: 1.9967688785982318e-05\n",
      "epoch 160\n",
      "loss: 6.539613650602405e-08\n",
      "gradient norm: 7.814366654201876e-06\n",
      "epoch 170\n",
      "loss: 6.498486726513875e-08\n",
      "gradient norm: 6.411356480384711e-06\n",
      "epoch 180\n",
      "loss: 6.459119106239086e-08\n",
      "gradient norm: 9.964114724425599e-06\n",
      "epoch 190\n",
      "loss: 6.438647659479102e-08\n",
      "gradient norm: 7.292651844181819e-06\n",
      "epoch 200\n",
      "loss: 6.429007726183045e-08\n",
      "gradient norm: 2.2568597159988713e-06\n",
      "epoch 210\n",
      "loss: 6.424765075507821e-08\n",
      "gradient norm: 6.3269553720601834e-06\n",
      "epoch 220\n",
      "loss: 6.404767560752589e-08\n",
      "gradient norm: 1.2451436305127572e-05\n",
      "epoch 230\n",
      "loss: 6.302107635747234e-08\n",
      "gradient norm: 2.6607558538671583e-05\n",
      "epoch 240\n",
      "loss: 5.7879500303670284e-08\n",
      "gradient norm: 9.331787441624328e-05\n",
      "epoch 250\n",
      "loss: 4.4139206067939085e-08\n",
      "gradient norm: 0.00024103889882098883\n",
      "epoch 260\n",
      "loss: 2.389048070483568e-08\n",
      "gradient norm: 0.00016224023420363665\n",
      "epoch 270\n",
      "loss: 1.4092644384788855e-08\n",
      "gradient norm: 0.00010463775834068656\n",
      "epoch 280\n",
      "loss: 9.61469837079676e-09\n",
      "gradient norm: 7.058247138047591e-05\n",
      "epoch 290\n",
      "loss: 5.443196560150909e-09\n",
      "gradient norm: 5.585991311818361e-05\n",
      "\n",
      "\n",
      "Loss of the final iteration : 2.3110531266468115e-09\n",
      "\n"
     ]
    }
   ],
   "source": [
    "# BFGS optimization\n",
    "w = flat_list_into_numpy(initialize(layers))\n",
    "\n",
    "N = len(w)\n",
    "max_epochs = 300\n",
    "tol = 1e-6\n",
    "\n",
    "dw = flat_list_into_numpy(loss_grad(unpack_params_fast(w)))\n",
    "I = jnp.eye(N)\n",
    "B_inv = I.copy()\n",
    "history_train = list()\n",
    "\n",
    "lr_old = 0.1\n",
    "\n",
    "epoch = 0\n",
    "while epoch < max_epochs and np.linalg.norm(dw) > tol:\n",
    "    w, dw, B_inv, lr_old = BFGS_fast(w, dw, B_inv, lr_old)\n",
    "    if epoch % 10 == 0:\n",
    "        l = loss_fast(unpack_params_fast(w))\n",
    "        history_train.append(l)\n",
    "        print(f\"epoch {epoch}\")\n",
    "        print(f\"loss: {l}\")\n",
    "        print(f\"gradient norm: {np.linalg.norm(dw)}\")\n",
    "    epoch += 1\n",
    "\n",
    "print(f\"\\n\\nLoss of the final iteration : {loss_fast(unpack_params_fast(w))}\\n\")"
   ],
   "metadata": {
    "collapsed": false,
    "ExecuteTime": {
     "end_time": "2024-03-02T17:52:26.991140Z",
     "start_time": "2024-03-02T17:52:09.489846Z"
    }
   }
  },
  {
   "cell_type": "code",
   "execution_count": 15,
   "outputs": [
    {
     "data": {
      "text/plain": "<Figure size 640x480 with 1 Axes>",
      "image/png": "[encoded data removed]"
     },
     "metadata": {},
     "output_type": "display_data"
    }
   ],
   "source": [
    "plt.plot(history_train);"
   ],
   "metadata": {
    "collapsed": false,
    "ExecuteTime": {
     "end_time": "2024-03-02T17:52:27.147161Z",
     "start_time": "2024-03-02T17:52:26.995296Z"
    }
   }
  },
  {
   "cell_type": "code",
   "execution_count": 16,
   "outputs": [],
   "source": [
    "params = unpack_params_fast(w)"
   ],
   "metadata": {
    "collapsed": false,
    "ExecuteTime": {
     "end_time": "2024-03-02T17:52:27.150943Z",
     "start_time": "2024-03-02T17:52:27.147734Z"
    }
   }
  },
  {
   "cell_type": "markdown",
   "source": [
    "# Plots for showing the results"
   ],
   "metadata": {
    "collapsed": false
   }
  },
  {
   "cell_type": "code",
   "execution_count": 17,
   "outputs": [
    {
     "data": {
      "text/plain": "<Figure size 640x480 with 1 Axes>",
      "image/png": "[encoded data removed]"
     },
     "metadata": {},
     "output_type": "display_data"
    }
   ],
   "source": [
    "plt.title(\"Y(t) - JAX version\")\n",
    "plt.plot([x for x in np.arange(0, 5.1, 0.1)], [ANN_single_point_fast(np.array([x]), params) for x in np.arange(0, 5.1, 0.1)], marker=\"*\", zorder=0)\n",
    "plt.plot([x for x in np.arange(0, 5.1, 0.1)], [y_real([x]) for x in np.arange(0, 5.1, 0.1)], zorder=1)\n",
    "plt.scatter([x for x in np.arange(0, 5.5, 0.5)], [y_real([x]) for x in np.arange(0, 5.5, 0.5)], marker=\"o\", c=\"purple\", zorder=2)\n",
    "plt.axvline(x=0.75, c=\"r\")\n",
    "plt.scatter([x[0] for x in passing_points_x], [x for x in passing_points_y], c=\"g\", zorder=3);"
   ],
   "metadata": {
    "collapsed": false,
    "ExecuteTime": {
     "end_time": "2024-03-02T17:52:27.358132Z",
     "start_time": "2024-03-02T17:52:27.164156Z"
    }
   }
  },
  {
   "cell_type": "code",
   "execution_count": 19,
   "outputs": [
    {
     "name": "stdout",
     "output_type": "stream",
     "text": [
      "In X = 0.75 the real function is Y = 0.612 and the PINN = 0.609. The error is around of 0.49%\n"
     ]
    }
   ],
   "source": [
    "x = 0.75\n",
    "real = np.round(np.float64(y_real([x])), 3)\n",
    "pred = np.round(np.float64(ANN_single_point_fast(np.array([x]), params)), 3)\n",
    "perc = np.round(np.float64(100 * (np.absolute(real - pred)) / real), 2)\n",
    "print(f\"In X = {x} the real function is Y = {real} and the PINN = {pred}. The error is around of {perc}%\")"
   ],
   "metadata": {
    "collapsed": false,
    "ExecuteTime": {
     "end_time": "2024-03-02T17:52:34.554101Z",
     "start_time": "2024-03-02T17:52:34.534678Z"
    }
   }
  }
 ],
 "metadata": {
  "kernelspec": {
   "display_name": "Python 3",
   "language": "python",
   "name": "python3"
  },
  "language_info": {
   "codemirror_mode": {
    "name": "ipython",
    "version": 2
   },
   "file_extension": ".py",
   "mimetype": "text/x-python",
   "name": "python",
   "nbconvert_exporter": "python",
   "pygments_lexer": "ipython2",
   "version": "2.7.6"
  }
 },
 "nbformat": 4,
 "nbformat_minor": 0
}
